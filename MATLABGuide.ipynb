{
 "cells": [
  {
   "cell_type": "markdown",
   "metadata": {},
   "source": [
    "# Programmering"
   ]
  },
  {
   "cell_type": "markdown",
   "metadata": {},
   "source": [
    "## Läs in data"
   ]
  },
  {
   "cell_type": "code",
   "execution_count": null,
   "metadata": {
    "vscode": {
     "languageId": "plaintext"
    }
   },
   "outputs": [],
   "source": [
    "% mat filer\n",
    "load 'namn på filen'"
   ]
  },
  {
   "cell_type": "markdown",
   "metadata": {},
   "source": [
    "## For-loopar"
   ]
  },
  {
   "cell_type": "code",
   "execution_count": null,
   "metadata": {
    "vscode": {
     "languageId": "plaintext"
    }
   },
   "outputs": [],
   "source": [
    "sum = 0;\n",
    "for t = 1:1:8\n",
    "    sum = sum + 1\n",
    "end"
   ]
  },
  {
   "cell_type": "markdown",
   "metadata": {},
   "source": [
    "### For-loop string arrays"
   ]
  },
  {
   "cell_type": "code",
   "execution_count": null,
   "metadata": {
    "vscode": {
     "languageId": "plaintext"
    }
   },
   "outputs": [],
   "source": [
    "for data = {'afdb_1.mat','afdb_2.mat','afdb_3.mat','afdb_4.mat','afdb_5.mat','afdb_6.mat','afdb_7.mat'}\n",
    "    funcs.plotdata(data{1});\n",
    "end"
   ]
  },
  {
   "cell_type": "markdown",
   "metadata": {},
   "source": [
    "Inside a class file:"
   ]
  },
  {
   "cell_type": "code",
   "execution_count": null,
   "metadata": {
    "vscode": {
     "languageId": "plaintext"
    }
   },
   "outputs": [],
   "source": [
    "% Outside the class file\n",
    "trainingdata = {'afdb_1.mat','afdb_2.mat','afdb_3.mat','afdb_4.mat','afdb_5.mat','afdb_6.mat','afdb_7.mat'}\n",
    "func(trainingdata)\n",
    "\n",
    "% inside class file\n",
    "for i = 1:length(trainingdata)\n",
    "    load(trainingdata{i})\n",
    "end"
   ]
  },
  {
   "cell_type": "markdown",
   "metadata": {},
   "source": [
    "## Most occuring element\n",
    "Returns most occuring element, function 'mode(...)'"
   ]
  },
  {
   "cell_type": "code",
   "execution_count": null,
   "metadata": {
    "vscode": {
     "languageId": "plaintext"
    }
   },
   "outputs": [],
   "source": [
    "label = mode(targetsRR(i:i+windowsize));"
   ]
  },
  {
   "cell_type": "markdown",
   "metadata": {},
   "source": [
    "## If else"
   ]
  },
  {
   "cell_type": "code",
   "execution_count": null,
   "metadata": {
    "vscode": {
     "languageId": "plaintext"
    }
   },
   "outputs": [],
   "source": [
    "if t > 0 & t < 10\n",
    "    x = 10\n",
    "elseif t > 100\n",
    "    x = 100\n",
    "end"
   ]
  },
  {
   "cell_type": "markdown",
   "metadata": {},
   "source": [
    "## Ta bort värden i matris"
   ]
  },
  {
   "cell_type": "code",
   "execution_count": null,
   "metadata": {
    "vscode": {
     "languageId": "plaintext"
    }
   },
   "outputs": [],
   "source": [
    "A(1:4,:) = []"
   ]
  },
  {
   "cell_type": "markdown",
   "metadata": {},
   "source": [
    "## Funktioner\n",
    "Exempel:"
   ]
  },
  {
   "cell_type": "code",
   "execution_count": null,
   "metadata": {
    "vscode": {
     "languageId": "plaintext"
    }
   },
   "outputs": [],
   "source": [
    "function x = myfunc(input)\n",
    "    x = 10;\n",
    "end"
   ]
  },
  {
   "cell_type": "markdown",
   "metadata": {},
   "source": [
    "### Importera funktioner från en annan .m fil\n",
    "Skriv vilken fil + vilken funktion, exempel:\n",
    "- main.m\n",
    "- Allfuncs.m\n",
    "\n",
    "Där Allfuncs.m har en function process:"
   ]
  },
  {
   "cell_type": "code",
   "execution_count": null,
   "metadata": {
    "vscode": {
     "languageId": "plaintext"
    }
   },
   "outputs": [],
   "source": [
    "% Inside main.m\n",
    "\n",
    "x = Allfuncs.process(...);"
   ]
  },
  {
   "cell_type": "markdown",
   "metadata": {},
   "source": [
    "Om Allfuncs.m hade varit i en annan mapp:"
   ]
  },
  {
   "cell_type": "markdown",
   "metadata": {},
   "source": [
    "### Skapa en class med flera funktioner\n",
    "Lagra flera funktioner i samma script. Klassen måste ha samma namn som fil namnet, i detta exemplet måste filen heta inspect.m = classdef inspect"
   ]
  },
  {
   "cell_type": "code",
   "execution_count": null,
   "metadata": {
    "vscode": {
     "languageId": "plaintext"
    }
   },
   "outputs": [],
   "source": [
    "classdef inspect\n",
    "    methods(Static)\n",
    "% Class start\n",
    "\n",
    "        function data_inspection(data)\n",
    "            figure,plot(targetsRR),title(string(data))\n",
    "        end\n",
    "\n",
    "% Class end\n",
    "    end\n",
    "end"
   ]
  },
  {
   "cell_type": "code",
   "execution_count": null,
   "metadata": {
    "vscode": {
     "languageId": "plaintext"
    }
   },
   "outputs": [],
   "source": [
    "% inside main.m\n",
    "\n",
    "inspect.data_inspection(...);"
   ]
  },
  {
   "cell_type": "markdown",
   "metadata": {},
   "source": [
    "## Strings"
   ]
  },
  {
   "cell_type": "markdown",
   "metadata": {},
   "source": [
    "### Append"
   ]
  },
  {
   "cell_type": "code",
   "execution_count": null,
   "metadata": {
    "vscode": {
     "languageId": "plaintext"
    }
   },
   "outputs": [],
   "source": [
    "name = append('CSV',int2str(t),'.csv');"
   ]
  },
  {
   "cell_type": "markdown",
   "metadata": {},
   "source": [
    "## Data processing"
   ]
  },
  {
   "cell_type": "markdown",
   "metadata": {},
   "source": [
    "### Ta bort rader i matrix med NaN"
   ]
  },
  {
   "cell_type": "code",
   "execution_count": null,
   "metadata": {
    "vscode": {
     "languageId": "plaintext"
    }
   },
   "outputs": [],
   "source": [
    "q = data(:,2); % y axeln i data\n",
    "t = data(:,1)./10^6; % x axeln i data\n",
    "dat = [t q];\n",
    "dat(any(isnan(dat), 2), :) = [];\n",
    "t = dat(:,1);\n",
    "q = dat(:,2);"
   ]
  },
  {
   "cell_type": "markdown",
   "metadata": {},
   "source": [
    "# Presentera data"
   ]
  },
  {
   "cell_type": "markdown",
   "metadata": {},
   "source": [
    "## Plots"
   ]
  },
  {
   "cell_type": "markdown",
   "metadata": {},
   "source": [
    "### Subplots"
   ]
  },
  {
   "cell_type": "code",
   "execution_count": null,
   "metadata": {
    "vscode": {
     "languageId": "plaintext"
    }
   },
   "outputs": [],
   "source": [
    "% Ovanpå varandra\n",
    "\n",
    "subplot(2,1,1);\n",
    "x = linspace(0,10);\n",
    "y1 = sin(x);\n",
    "plot(x,y1)\n",
    "\n",
    "subplot(2,1,2); \n",
    "y2 = sin(5*x);\n",
    "plot(x,y2)"
   ]
  },
  {
   "cell_type": "code",
   "execution_count": null,
   "metadata": {
    "vscode": {
     "languageId": "plaintext"
    }
   },
   "outputs": [],
   "source": [
    "% sidan om\n",
    "\n",
    "subplot(1,2,1);\n",
    "x = linspace(0,10);\n",
    "y1 = sin(x);\n",
    "plot(x,y1)\n",
    "\n",
    "subplot(1,2,2); \n",
    "y2 = sin(5*x);\n",
    "plot(x,y2)"
   ]
  },
  {
   "cell_type": "markdown",
   "metadata": {},
   "source": [
    "### Title för subplots"
   ]
  },
  {
   "cell_type": "code",
   "execution_count": null,
   "metadata": {
    "vscode": {
     "languageId": "plaintext"
    }
   },
   "outputs": [],
   "source": [
    "sgtitle('Magnetic Field Frequency Spectrum')"
   ]
  },
  {
   "cell_type": "markdown",
   "metadata": {},
   "source": [
    "### Limits"
   ]
  },
  {
   "cell_type": "code",
   "execution_count": null,
   "metadata": {
    "vscode": {
     "languageId": "plaintext"
    }
   },
   "outputs": [],
   "source": [
    "func = @(x) x.^2;\n",
    "t = -10:0.1:10;\n",
    "plot(t,func(t)), xlim([-5 5]), ylim([-5 5])"
   ]
  },
  {
   "cell_type": "markdown",
   "metadata": {},
   "source": [
    "## Envelope"
   ]
  },
  {
   "cell_type": "code",
   "execution_count": null,
   "metadata": {
    "vscode": {
     "languageId": "plaintext"
    }
   },
   "outputs": [],
   "source": [
    "%q är y axeln i data, t är x axeln i data\n",
    "\n",
    "[up,lo] = envelope(q,20,'peak');\n",
    "hold on\n",
    "plot(t,q,t,up,'linewidth',1.5)\n",
    "legend('Signal','Envelope'), title('Magnetic Field Frequency Spectrum')\n",
    "hold off"
   ]
  },
  {
   "cell_type": "markdown",
   "metadata": {},
   "source": [
    "# Matte"
   ]
  },
  {
   "cell_type": "markdown",
   "metadata": {},
   "source": [
    "## Integraler"
   ]
  },
  {
   "cell_type": "code",
   "execution_count": null,
   "metadata": {
    "vscode": {
     "languageId": "plaintext"
    }
   },
   "outputs": [],
   "source": [
    "syms u\n",
    "int(u*exp(u),0,1)"
   ]
  },
  {
   "cell_type": "markdown",
   "metadata": {},
   "source": [
    "## Ekvationer"
   ]
  },
  {
   "cell_type": "markdown",
   "metadata": {},
   "source": [
    "### Räkna symboliskt"
   ]
  },
  {
   "cell_type": "code",
   "execution_count": null,
   "metadata": {
    "vscode": {
     "languageId": "plaintext"
    }
   },
   "outputs": [],
   "source": [
    "syms x y\n",
    "s1 = 2*x;\n",
    "s2 = x+y;\n",
    "s1 + s2"
   ]
  },
  {
   "cell_type": "markdown",
   "metadata": {},
   "source": [
    "### Symboliska ekvationer"
   ]
  },
  {
   "cell_type": "code",
   "execution_count": null,
   "metadata": {
    "vscode": {
     "languageId": "plaintext"
    }
   },
   "outputs": [],
   "source": [
    "syms x y z\n",
    "f = x+y+z;\n",
    "solve(f,z)"
   ]
  },
  {
   "cell_type": "markdown",
   "metadata": {},
   "source": [
    "### Förenkla/utöka"
   ]
  },
  {
   "cell_type": "code",
   "execution_count": null,
   "metadata": {
    "vscode": {
     "languageId": "plaintext"
    }
   },
   "outputs": [],
   "source": [
    "syms x\n",
    "eq = (1+0.1*x)^3\n",
    "expand(eq)\n",
    "simplify(eq)"
   ]
  },
  {
   "cell_type": "markdown",
   "metadata": {},
   "source": [
    "### Ekvationssystem"
   ]
  },
  {
   "cell_type": "code",
   "execution_count": null,
   "metadata": {
    "vscode": {
     "languageId": "plaintext"
    }
   },
   "outputs": [],
   "source": [
    "syms x y z\n",
    "f = [2*x+z == 1, x+y+z == 0];\n",
    "solve(f, [x,z])\n",
    "\n",
    "% Ibland ges lösningen i fields. För att nå värdena:\n",
    "\n",
    "syms B g S I\n",
    "eq = [-B*I*S+g*I == 0, B*I*S-g*I == 0, S+I == 1];\n",
    "solution = solve(eq, [S I]);\n",
    "S = solution.S\n",
    "I = solution.I"
   ]
  },
  {
   "cell_type": "markdown",
   "metadata": {},
   "source": [
    "### Ax=b ekvationer icke-deterministiska lösningar"
   ]
  },
  {
   "cell_type": "code",
   "execution_count": null,
   "metadata": {
    "vscode": {
     "languageId": "plaintext"
    }
   },
   "outputs": [],
   "source": [
    "% Define A and b\n",
    "A = [1 1 -3 -1; -1 -1 0 -2; 0 0 1 1];\n",
    "\n",
    "% Compute the null space\n",
    "N = null(A, 'r'); % Null space basis for A\n",
    "\n",
    "% Generate integer solutions\n",
    "x_whole_numbers = []; % Store valid solutions\n",
    "max_search = 1; % Search range for integers in c\n",
    "\n",
    "% Loop over possible integer combinations for c\n",
    "for c1 = -max_search:max_search\n",
    "    for c2 = -max_search:max_search\n",
    "        c = [c1; c2]; % Form the integer vector c\n",
    "        x = N * c; % Compute solution\n",
    "        if all(mod(x, 1) == 0) % Check if all elements of x are integers\n",
    "            x_whole_numbers = [x_whole_numbers, x]; % Store valid solution\n",
    "        end\n",
    "    end\n",
    "end\n",
    "\n",
    "% Transpose for easier sorting (convert columns to rows)\n",
    "x_whole_numbers = x_whole_numbers';\n",
    "\n",
    "% Remove duplicates (in case multiple c's lead to the same solution)\n",
    "x_whole_numbers = unique(x_whole_numbers, 'rows');\n",
    "\n",
    "% Sort solutions lexicographically (row-wise sorting)\n",
    "x_sorted = sortrows(x_whole_numbers);\n",
    "\n",
    "% Display sorted solutions\n",
    "disp('Sorted whole number solutions (lexicographically):');\n",
    "disp(x_sorted);\n",
    "\n",
    "% ändra max_search om du vill beräkna fler antalet lösningar"
   ]
  },
  {
   "cell_type": "markdown",
   "metadata": {},
   "source": [
    "### Ekvationer"
   ]
  },
  {
   "cell_type": "code",
   "execution_count": null,
   "metadata": {
    "vscode": {
     "languageId": "plaintext"
    }
   },
   "outputs": [],
   "source": [
    "f = @(x) 2*x-5;\n",
    "fsolve(f,0.1)\n",
    "\n",
    "%OBS fsolve letar efter närmast lösningen till punkten (detta fallet 0.1), och att f är i formen f(x)=0"
   ]
  },
  {
   "cell_type": "markdown",
   "metadata": {},
   "source": [
    "### Differential ekvationer"
   ]
  },
  {
   "cell_type": "code",
   "execution_count": null,
   "metadata": {
    "vscode": {
     "languageId": "plaintext"
    }
   },
   "outputs": [],
   "source": [
    "syms x(t) b a u x0\n",
    "dsolve(diff(x) == -a*x + b*u, x(0)==x0)"
   ]
  },
  {
   "cell_type": "markdown",
   "metadata": {},
   "source": [
    "### ode45 differential simulering"
   ]
  },
  {
   "cell_type": "code",
   "execution_count": null,
   "metadata": {
    "vscode": {
     "languageId": "plaintext"
    }
   },
   "outputs": [],
   "source": [
    "x_0 = 1;\n",
    "timespan = [0 6];\n",
    "f = @(t,x) -2*x;\n",
    "[T,Y] = ode45(f,timespan,x_0);\n",
    "plot(T,Y)"
   ]
  },
  {
   "cell_type": "markdown",
   "metadata": {},
   "source": [
    "### ode45 simulera differential ekvationssystem"
   ]
  },
  {
   "cell_type": "code",
   "execution_count": null,
   "metadata": {
    "vscode": {
     "languageId": "plaintext"
    }
   },
   "outputs": [],
   "source": [
    "f = @(t,x) [x(2); 3*x(1)-7*x(2)];\n",
    "x0 = [0 1];\n",
    "timespan = [0 5];\n",
    "[T,Y] = ode45(f,timespan,x0);\n",
    "plot(T,Y)"
   ]
  },
  {
   "cell_type": "markdown",
   "metadata": {},
   "source": [
    "# Modellering och signalbehandling"
   ]
  },
  {
   "cell_type": "markdown",
   "metadata": {},
   "source": [
    "## Modellering"
   ]
  },
  {
   "cell_type": "markdown",
   "metadata": {},
   "source": [
    "### State-space simulering"
   ]
  },
  {
   "cell_type": "code",
   "execution_count": null,
   "metadata": {
    "vscode": {
     "languageId": "plaintext"
    }
   },
   "outputs": [],
   "source": [
    "k = 1;\n",
    "A = [-k 0;\n",
    "    k -k];\n",
    "B = [1;\n",
    "    0];\n",
    "C = [0 1];\n",
    "D = 0;\n",
    "\n",
    "model = ss(A, B, C, D);\n",
    "t = 0:0.1:8;\n",
    "u = ones(length(t), 1);\n",
    "lsim(model,u,t)"
   ]
  },
  {
   "attachments": {
    "image.png": {
     "image/png": "[encoded data removed]"
    }
   },
   "cell_type": "markdown",
   "metadata": {},
   "source": [
    "![image.png](attachment:image.png)"
   ]
  },
  {
   "cell_type": "markdown",
   "metadata": {},
   "source": [
    "### Skapa transfer function"
   ]
  },
  {
   "cell_type": "code",
   "execution_count": null,
   "metadata": {
    "vscode": {
     "languageId": "plaintext"
    }
   },
   "outputs": [],
   "source": [
    "numerator = 1;\n",
    "denominator = [2, 3, 4]; %ange koefficienter för polynomer\n",
    "func = tf(numerator, denominator)"
   ]
  },
  {
   "cell_type": "code",
   "execution_count": null,
   "metadata": {
    "vscode": {
     "languageId": "plaintext"
    }
   },
   "outputs": [],
   "source": [
    "s = tf('s');\n",
    "G = 1/(s^2+4*s+3)"
   ]
  },
  {
   "cell_type": "markdown",
   "metadata": {},
   "source": [
    "### State-space to transfer function"
   ]
  },
  {
   "cell_type": "code",
   "execution_count": null,
   "metadata": {
    "vscode": {
     "languageId": "plaintext"
    }
   },
   "outputs": [],
   "source": [
    "A = [-2 -1;1 -2];\n",
    "B = [1 1;2 -1];\n",
    "C = [1 0];\n",
    "D = [0 1];\n",
    "model = ss(A,B,C,D);\n",
    "\n",
    "func = tf(model)"
   ]
  },
  {
   "cell_type": "markdown",
   "metadata": {},
   "source": [
    "### transfer function to state-space"
   ]
  },
  {
   "cell_type": "code",
   "execution_count": null,
   "metadata": {
    "vscode": {
     "languageId": "plaintext"
    }
   },
   "outputs": [],
   "source": [
    "numerator = 0.16;\n",
    "denominator = [1/1000 3/100 3/10 1];\n",
    "tf(numerator,denominator)\n",
    "[A,B,C,D] = tf2ss(numerator,denominator)"
   ]
  },
  {
   "cell_type": "markdown",
   "metadata": {},
   "source": [
    "### Transfer function till diskret funktion"
   ]
  },
  {
   "cell_type": "code",
   "execution_count": null,
   "metadata": {
    "vscode": {
     "languageId": "plaintext"
    }
   },
   "outputs": [],
   "source": [
    "s = tf('s');\n",
    "G = 2/(s+3);\n",
    "c2d(G,0.1)"
   ]
  },
  {
   "cell_type": "markdown",
   "metadata": {},
   "source": [
    "### Skapa modeller"
   ]
  },
  {
   "cell_type": "markdown",
   "metadata": {},
   "source": [
    "#### Model reduction"
   ]
  },
  {
   "cell_type": "markdown",
   "metadata": {},
   "source": [
    "##### Transfer function reduction (zpk & feedback)"
   ]
  },
  {
   "cell_type": "code",
   "execution_count": null,
   "metadata": {
    "vscode": {
     "languageId": "plaintext"
    }
   },
   "outputs": [],
   "source": [
    "% Original Transfer Function: H(s) = 10 / (s^2 + 3s + 10)\n",
    "% Step 1: Define the original transfer function\n",
    "numerator = 10;\n",
    "denominator = [1, 3, 10];\n",
    "H_original = tf(numerator, denominator);\n",
    "\n",
    "% Step 2: Convert to ZPK form\n",
    "[Z, P, K] = tf2zpk(numerator, denominator);\n",
    "disp('Original ZPK Representation:');\n",
    "disp(['Zeros: ', num2str(Z)]);\n",
    "disp(['Poles: ', num2str(P)]);\n",
    "disp(['Gain: ', num2str(K)]);\n",
    "\n",
    "% Step 3: Reduce the model by keeping only the dominant pole\n",
    "% We'll keep the first pole (the one with the smallest real part)\n",
    "reduced_P = P(1);  % First pole (dominant one)\n",
    "reduced_K = K;     % Use the same gain\n",
    "\n",
    "% Step 4: Create the reduced model with one pole\n",
    "H_reduced = zpk([], reduced_P, reduced_K);"
   ]
  },
  {
   "cell_type": "markdown",
   "metadata": {},
   "source": [
    "##### Feedback model (reduction)"
   ]
  },
  {
   "cell_type": "code",
   "execution_count": null,
   "metadata": {
    "vscode": {
     "languageId": "plaintext"
    }
   },
   "outputs": [],
   "source": [
    "s = tf('s');\n",
    "G = 1/(s+1);\n",
    "C = 1+(2/s);\n",
    "feedback(G*C,1)"
   ]
  },
  {
   "cell_type": "markdown",
   "metadata": {},
   "source": [
    "##### Balanced state-space realization (reduction)"
   ]
  },
  {
   "cell_type": "markdown",
   "metadata": {},
   "source": [
    "A balanced realization is a transformation of the state-space representation such that the controllability and observability Gramians are equal and diagonal. Helps identify states that contribute very little to system dynamics."
   ]
  },
  {
   "cell_type": "code",
   "execution_count": null,
   "metadata": {
    "vscode": {
     "languageId": "plaintext"
    }
   },
   "outputs": [],
   "source": [
    "A = [-1 0 0 ; 0 -0.1 0 ; 0 0 -0.101];\n",
    "B = [1;1;-1];\n",
    "C = [1 1 1 ];\n",
    "D = 0;\n",
    "G = ss(A,B,C,D);\n",
    "[sysg,g] = balreal(G);"
   ]
  },
  {
   "attachments": {
    "image.png": {
     "image/png": "[encoded data removed]"
    }
   },
   "cell_type": "markdown",
   "metadata": {},
   "source": [
    "g är Hankel singular values, vilket visar hur viktig varje feature är.\n",
    "\n",
    "![image.png](attachment:image.png)\n",
    "\n",
    "I detta exemplet har features i index 0-20 ett viss värde, features närmare 0 är viktigast. I modred sätter du sen en tolerans på vilka features man ska ta med, enligt detta."
   ]
  },
  {
   "cell_type": "markdown",
   "metadata": {},
   "source": [
    "##### Modred"
   ]
  },
  {
   "cell_type": "markdown",
   "metadata": {},
   "source": [
    "The actual state-space reduction"
   ]
  },
  {
   "cell_type": "code",
   "execution_count": null,
   "metadata": {
    "vscode": {
     "languageId": "plaintext"
    }
   },
   "outputs": [],
   "source": [
    "G1 = modred(sysg,g < g(1))\n",
    "G2 = modred(sysg,g < g(2))\n",
    "bode(G,G1,G2)"
   ]
  },
  {
   "cell_type": "markdown",
   "metadata": {},
   "source": [
    "#### Subspace method för state-space modeling"
   ]
  },
  {
   "cell_type": "code",
   "execution_count": null,
   "metadata": {
    "vscode": {
     "languageId": "plaintext"
    }
   },
   "outputs": [],
   "source": [
    "rng('default')\n",
    "sys = idss(drss(4,2,2)); sys.D=zeros(2,2); % skapar en random 4th order state-space model med två input två output, D=0\n",
    "u = idinput([300,2],'rbs',[0 0.2]); % 300 låg frekvens binär input\n",
    "y0 = sims(sys,u);\n",
    "e = randn(300,2); % skapar noise vektor\n",
    "y = y0+e; % lägger till noise i outputten\n",
    "z = iddata(y,u) % skapar data objekt\n",
    "\n",
    "% Estimera en 4th order state space modell\n",
    "ms = n4sid(z,4)\n",
    "compare(iddata(y0,u),ms)"
   ]
  },
  {
   "cell_type": "markdown",
   "metadata": {},
   "source": [
    "#### Black-box modellering"
   ]
  },
  {
   "cell_type": "code",
   "execution_count": null,
   "metadata": {
    "vscode": {
     "languageId": "plaintext"
    }
   },
   "outputs": [],
   "source": [
    "model_oe = oe(data,[2 2 1])\n",
    "model_arx = arx(data,[2 2 1])\n",
    "model_armax = armax(data,[2 2 2 1])\n",
    "model_bj = bj(data,[2 2 2 2 1])"
   ]
  },
  {
   "cell_type": "markdown",
   "metadata": {},
   "source": [
    "#### Box-Jenkins modelling"
   ]
  },
  {
   "attachments": {
    "image-2.png": {
     "image/png": "[encoded data removed]"
    }
   },
   "cell_type": "markdown",
   "metadata": {},
   "source": [
    "![image-2.png](attachment:image-2.png)"
   ]
  },
  {
   "cell_type": "code",
   "execution_count": null,
   "metadata": {
    "vscode": {
     "languageId": "plaintext"
    }
   },
   "outputs": [],
   "source": [
    "nb = 1; nc = 1; nd = 2; nf = 2; nk = 1;\n",
    "M = bj(z, [nb nc nd nf nk])"
   ]
  },
  {
   "cell_type": "markdown",
   "metadata": {},
   "source": [
    "#### ETFE"
   ]
  },
  {
   "cell_type": "code",
   "execution_count": null,
   "metadata": {
    "vscode": {
     "languageId": "plaintext"
    }
   },
   "outputs": [],
   "source": [
    "fs = 100;\n",
    "T = 1/fs;\n",
    "N = 1e4;      \n",
    "t = T*(0:N-1)';\n",
    "df = 1/N/T;\n",
    "fvec = (0:N/2)*df;\n",
    "\n",
    "% ETFE\n",
    "Y = T*fft(y);\n",
    "U = T*fft(u);\n",
    "Ghat = Y ./ U;\n",
    "\n",
    "%% Simulate and compare to true system\n",
    "\n",
    "% true system\n",
    "z = tf('z',T);\n",
    "G = 0.15*(1+z^(-1))/(1-1.6*z^(-1) + 0.9*z^(-2));\n",
    "e = randn(N,1);\n",
    "\n",
    "Gw = squeeze(freqresp(G,2*pi*fvec));\n",
    "figure(2)\n",
    "loglog(fvec,abs(Ghat(1:N/2+1)),'b','linewidth',2);\n",
    "hold on\n",
    "loglog(fvec,abs(Gw),'r--','linewidth',1.5)\n",
    "axis([f0 f1 1e-3 10])\n",
    "xlabel('Frequency [Hz]')\n",
    "ylabel('abs(G)')\n",
    "legend('abs(Ghat)','True abs(G)','Location','best')\n",
    "set(gca,'fontsize',16)\n",
    "title('ETFE','fontsize',18)"
   ]
  },
  {
   "cell_type": "markdown",
   "metadata": {},
   "source": [
    "#### Beräkna transfer function från spectrum"
   ]
  },
  {
   "cell_type": "code",
   "execution_count": null,
   "metadata": {
    "vscode": {
     "languageId": "plaintext"
    }
   },
   "outputs": [],
   "source": [
    "Ghat = spa(iddata(y,u,T),gamma,w) % gamma = smoothing factor, w = frekvens intervall att nyttja"
   ]
  },
  {
   "cell_type": "markdown",
   "metadata": {},
   "source": [
    "#### Automatisk black-box modellering"
   ]
  },
  {
   "cell_type": "code",
   "execution_count": null,
   "metadata": {
    "vscode": {
     "languageId": "plaintext"
    }
   },
   "outputs": [],
   "source": [
    "%% Generera input-output data\n",
    "\n",
    "% Generate synthetic input-output data for ARX modeling\n",
    "N = 100; % Number of samples\n",
    "t = (1:N)'; % Time vector\n",
    "\n",
    "% Input signal (u): Random signal\n",
    "u = randn(N, 1);\n",
    "\n",
    "% ARX system parameters\n",
    "na = 1; % Order of A(z)\n",
    "nb = 2; % Order of B(z)\n",
    "nk = 5; % Input delay\n",
    "\n",
    "% True system coefficients\n",
    "A = [1, 0.702]; % A(z) = 1 + 0.702*z^(-1)\n",
    "B = [0, 0, 0, 0, 0.9939, 1.991]; % B(z) = 0.9939*z^(-5) + 1.991*z^(-6)\n",
    "\n",
    "% Simulate the output (y)\n",
    "e = 0.05 * randn(N, 1); % Additive noise\n",
    "y = filter(B, A, u) + e; % Output signal\n",
    "\n",
    "% Combine input-output data into an iddata object\n",
    "z = iddata(y, u, 1); % Sampling time = 1 (discrete data)\n",
    "\n",
    "%% Approximera bästa black-box modell och dess ordning\n",
    "\n",
    "% Skapa na, nb, nk att testa\n",
    "NN = struc(1:4,1:4,1:10);\n",
    "\n",
    "% Beräknar loss function för data och alla ordningar\n",
    "V = arxstruc(z,z,NN);\n",
    "\n",
    "% Väljer bästa modellen som passar\n",
    "Nbest = selstruc(V,'mdl');\n",
    "\n",
    "% Approximerar parametrarna utifrån Nbest\n",
    "arxbest = arx(z,Nbest);"
   ]
  },
  {
   "cell_type": "markdown",
   "metadata": {},
   "source": [
    "#### System Identification GUI"
   ]
  },
  {
   "cell_type": "code",
   "execution_count": null,
   "metadata": {
    "vscode": {
     "languageId": "plaintext"
    }
   },
   "outputs": [],
   "source": [
    "ident"
   ]
  },
  {
   "cell_type": "markdown",
   "metadata": {},
   "source": [
    "#### Grey-box modelling"
   ]
  },
  {
   "cell_type": "code",
   "execution_count": null,
   "metadata": {
    "vscode": {
     "languageId": "plaintext"
    }
   },
   "outputs": [],
   "source": [
    "A = [0 1;0 -1];\n",
    "B = [0;0.25];\n",
    "C = eye(2);\n",
    "D = [0;0];\n",
    "K = zeros(2,2);\n",
    "x0 = [0;0];\n",
    "m = idss(A,B,C,D,K,'Ts',0); % 0: Ts = 0, kontinuerlig modell\n",
    "\n",
    "% ange konstanter som inte ska varieras\n",
    "S = m.Structure;\n",
    "S.A.Free(1,:) = false;\n",
    "S.A.Free(2,1) = false;\n",
    "S.B.Free(1) = false;\n",
    "S.C.Free = false;\n",
    "S.D.Free = false;\n",
    "S.K.Free = false;\n",
    "m.Structure = S;\n",
    "m.NoiseVariance = [0.01 0; 0 0.1];\n",
    "\n",
    "opt = ssestOptions;\n",
    "opt.InitialState = idpar(x0);\n",
    "opt.InitialState.Free(2) = false;\n",
    "%% Estimate model structure\n",
    "z = iddata(y,u,0.1);\n",
    "m = ssest(z,m,opt)"
   ]
  },
  {
   "cell_type": "markdown",
   "metadata": {},
   "source": [
    "#### SVD/PCA"
   ]
  },
  {
   "cell_type": "markdown",
   "metadata": {},
   "source": [
    "V vektorn ger principal vektorerna. Vektorerna är organiserade som kolumner i storleks ordning. Dessa vektorer ger de mest signifikanta riktningar som påverkar datan. Multiplicera datan med två första kolumnerna för 2D projection, tre kolumner för 3D projektion.\n",
    "\n",
    "Om man vet till exempel att denna stora data matrix man räknar på har två klassifikationer, så kommer första principal komponent innebära ena klassifikationen, andra vektorn den andra."
   ]
  },
  {
   "cell_type": "code",
   "execution_count": null,
   "metadata": {
    "vscode": {
     "languageId": "plaintext"
    }
   },
   "outputs": [],
   "source": [
    "[U,S,V]= svd(A,'econ');   "
   ]
  },
  {
   "cell_type": "markdown",
   "metadata": {},
   "source": [
    "### Jämföra modeller mot data"
   ]
  },
  {
   "cell_type": "code",
   "execution_count": null,
   "metadata": {
    "vscode": {
     "languageId": "plaintext"
    }
   },
   "outputs": [],
   "source": [
    "figure\n",
    "horizon = inf;\n",
    "compare(data,model_oe,model_arx,model_armax,model_bj,horizon)"
   ]
  },
  {
   "cell_type": "markdown",
   "metadata": {},
   "source": [
    "### Truncation error bound"
   ]
  },
  {
   "attachments": {
    "image.png": {
     "image/png": "[encoded data removed]"
    }
   },
   "cell_type": "markdown",
   "metadata": {},
   "source": [
    "![image.png](attachment:image.png)\n",
    "\n",
    "The hsvd function in MATLAB computes the Hankel singular values of a system, which are metrics indicating the energy contribution of each state in a state-space system. It is often used in model reduction and system analysis to identify states with negligible impact on the system's input-output behavior."
   ]
  },
  {
   "cell_type": "code",
   "execution_count": null,
   "metadata": {
    "vscode": {
     "languageId": "plaintext"
    }
   },
   "outputs": [],
   "source": [
    "s = hsvd(G)\n",
    "err1 = 2*(s(2)+s(3)+s(4))\n",
    "err2 = 2*(s(3)+s(4))"
   ]
  },
  {
   "cell_type": "markdown",
   "metadata": {},
   "source": [
    "### Hämta covariance av parameters"
   ]
  },
  {
   "cell_type": "markdown",
   "metadata": {},
   "source": [
    "Om din modell är sparad som idss:"
   ]
  },
  {
   "cell_type": "code",
   "execution_count": null,
   "metadata": {
    "vscode": {
     "languageId": "plaintext"
    }
   },
   "outputs": [],
   "source": [
    "covMatrix = getcov(sys);\n",
    "param_std = sqrt(diag(covMatrix));\n",
    "disp('Covariance matrix of parameters:');\n",
    "disp(covMatrix);\n",
    "disp('Standard deviations of parameters:');\n",
    "disp(param_std);"
   ]
  },
  {
   "cell_type": "markdown",
   "metadata": {},
   "source": [
    "Kolla om det finns singular values, indikerar på att datan inte var tillräcklig för vissa parametrar. Tvinga denna parametern till ett viss värde, kanske modellen blir bättre"
   ]
  },
  {
   "cell_type": "markdown",
   "metadata": {},
   "source": [
    "### Poles and zeros från modell"
   ]
  },
  {
   "cell_type": "code",
   "execution_count": null,
   "metadata": {
    "vscode": {
     "languageId": "plaintext"
    }
   },
   "outputs": [],
   "source": [
    "pzmap(sys)"
   ]
  },
  {
   "cell_type": "markdown",
   "metadata": {},
   "source": [
    "### Beräkna correlation av två data"
   ]
  },
  {
   "cell_type": "code",
   "execution_count": null,
   "metadata": {
    "vscode": {
     "languageId": "plaintext"
    }
   },
   "outputs": [],
   "source": [
    "corrcoef([data1 data2])"
   ]
  },
  {
   "cell_type": "markdown",
   "metadata": {},
   "source": [
    "### Residual analysis"
   ]
  },
  {
   "cell_type": "code",
   "execution_count": null,
   "metadata": {
    "vscode": {
     "languageId": "plaintext"
    }
   },
   "outputs": [],
   "source": [
    "resid(iddata(y,u),sys)"
   ]
  },
  {
   "cell_type": "markdown",
   "metadata": {},
   "source": [
    "### Welch Spectrum"
   ]
  },
  {
   "cell_type": "markdown",
   "metadata": {},
   "source": [
    "Utvärdera genom att kolla vilken frekvens signalerna börjar dala, från denna frekvens uppåt blir modellen opålitlig. Den frekvensen som det börjar bli opålitligt är den punkt där den börjar dala gånger nyqvist frekvensen = Fs/2, Fs=1/T där T är samplings perioden, Fs samplings frekvensen."
   ]
  },
  {
   "cell_type": "code",
   "execution_count": null,
   "metadata": {
    "vscode": {
     "languageId": "plaintext"
    }
   },
   "outputs": [],
   "source": [
    "figure\n",
    "pwelch(u)\n",
    "hold on\n",
    "pwelch(y)"
   ]
  },
  {
   "cell_type": "markdown",
   "metadata": {},
   "source": [
    "### Plot spectrum extracted from ident"
   ]
  },
  {
   "cell_type": "code",
   "execution_count": null,
   "metadata": {
    "vscode": {
     "languageId": "plaintext"
    }
   },
   "outputs": [],
   "source": [
    "data = sp2000.SpectrumData;\n",
    "vector = data(1, 1, :);  % Extract the data along the third dimension\n",
    "f = sp2000.Frequency;\n",
    "vector = reshape(vector, [], 1);  % Reshape into a column vector\n",
    "plot(f,vector)"
   ]
  },
  {
   "cell_type": "markdown",
   "metadata": {},
   "source": [
    "## Signalbehandling"
   ]
  },
  {
   "cell_type": "markdown",
   "metadata": {},
   "source": [
    "### Step response"
   ]
  },
  {
   "cell_type": "code",
   "execution_count": null,
   "metadata": {
    "vscode": {
     "languageId": "plaintext"
    }
   },
   "outputs": [],
   "source": [
    "stepplot(func)"
   ]
  },
  {
   "cell_type": "markdown",
   "metadata": {},
   "source": [
    "### Beräkna kovarians från impulse response"
   ]
  },
  {
   "cell_type": "code",
   "execution_count": null,
   "metadata": {
    "vscode": {
     "languageId": "plaintext"
    }
   },
   "outputs": [],
   "source": [
    "N = 100;\n",
    "h = impulse(G,N); % G är transfer function enligt box-jenkins\n",
    "[Rw,lags]=xcov(h,20,'none')\n",
    "plot(lags,Rw,'b-x','linewidth',2);"
   ]
  },
  {
   "cell_type": "markdown",
   "metadata": {},
   "source": [
    "### Jämföra med bode diagram"
   ]
  },
  {
   "cell_type": "code",
   "execution_count": null,
   "metadata": {
    "vscode": {
     "languageId": "plaintext"
    }
   },
   "outputs": [],
   "source": [
    "figure(6)\n",
    "\n",
    "G = 1/(s^2+2*s+4);\n",
    "h = 0.1;\n",
    "Gd = c2d(G,h) %c2d diskretiserar kontinuerliga system med zero-hold input\n",
    "\n",
    "%P = bodeoptions;\n",
    "%P.FreqUnits = 'Hz'\n",
    "bode(Gd,'b-')\n",
    "%print -depsc ident01_bode.eps\n",
    "\n",
    "hold on\n",
    "[A,B,C,D,F,dA,dB,dC,dD,dF] = polydata(model_oe);\n",
    "bode(tf(B,F,0.1),'g--')\n",
    "[A,B,C,D,F,dA,dB,dC,dD,dF] = polydata(model_arx);\n",
    "bode(tf(B,A,0.1),'r--')\n",
    "[A,B,C,D,F,dA,dB,dC,dD,dF] = polydata(model_armax);\n",
    "bode(tf(B,A,0.1),'k--')\n",
    "[A,B,C,D,F,dA,dB,dC,dD,dF] = polydata(model_bj);\n",
    "bode(tf(B,F,0.1),'y--')\n",
    "legend('true system','OE','ARX','ARMAX','BJ','Linewidth',2,'Location','West')"
   ]
  }
 ],
 "metadata": {
  "language_info": {
   "name": "python"
  }
 },
 "nbformat": 4,
 "nbformat_minor": 2
}
