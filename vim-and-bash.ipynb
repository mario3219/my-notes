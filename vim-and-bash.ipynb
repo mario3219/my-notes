{
 "cells": [
  {
   "cell_type": "markdown",
   "id": "89ffba71",
   "metadata": {},
   "source": [
    "# Setup NeoViM"
   ]
  },
  {
   "cell_type": "code",
   "execution_count": null,
   "id": "bc8b6132",
   "metadata": {
    "vscode": {
     "languageId": "plaintext"
    }
   },
   "outputs": [],
   "source": [
    "sudo apt-get install nvim"
   ]
  },
  {
   "cell_type": "markdown",
   "id": "46062a08",
   "metadata": {},
   "source": [
    "## Startup configuration\n",
    "File explorer i toppen, terminal i botten"
   ]
  },
  {
   "cell_type": "code",
   "execution_count": null,
   "id": "184bad44",
   "metadata": {
    "vscode": {
     "languageId": "plaintext"
    }
   },
   "outputs": [],
   "source": [
    "\n",
    "mkdir -p ~/.config/nvim\n",
    "nvim ~/.config/nvim/init.vim"
   ]
  },
  {
   "cell_type": "markdown",
   "id": "0e051f48",
   "metadata": {},
   "source": [
    "Paste this in invit.vim:"
   ]
  },
  {
   "cell_type": "code",
   "execution_count": null,
   "id": "f8215f4f",
   "metadata": {
    "vscode": {
     "languageId": "plaintext"
    }
   },
   "outputs": [],
   "source": [
    "\n",
    "\" ================================\n",
    "\" Startup Layout (Explorer + Terminal)\n",
    "\" ================================\n",
    "\n",
    "if argc() == 0\n",
    "  augroup NvimStartupLayout\n",
    "    autocmd!\n",
    "    autocmd VimEnter * call s:StartupView()\n",
    "  augroup END\n",
    "endif\n",
    "\n",
    "function! s:StartupView()\n",
    "  enew\n",
    "  silent! Explore\n",
    "  set number\n",
    "  wincmd H\n",
    "  vertical resize 40\n",
    "  wincmd L\n",
    "\n",
    "  belowright split\n",
    "  execute 'terminal'\n",
    "\n",
    "  \" Turn off line numbers inside the terminal\n",
    "  setlocal nonumber norelativenumber\n",
    "\n",
    "  wincmd k\n",
    "\n",
    "  \" Ensure line numbers are ON for the editor\n",
    "  setlocal number \n",
    "\n",
    "  resize +20\n",
    "endfunction\n",
    "\n",
    "\" ================================\n",
    "\" Plugin Manager\n",
    "\" ================================\n",
    "\n",
    "\" Empty\n",
    "\n",
    "\" ================================\n",
    "\" Line Numbers Logic\n",
    "\" ================================\n",
    "\n",
    "\" Global default: numbers ON\n",
    "set number\n",
    "\n",
    "\" Always disable numbers in terminal buffers\n",
    "autocmd TermOpen * setlocal nonumber norelativenumber\n",
    "\n",
    "\" Auto-enable numbers when opening a normal file\n",
    "autocmd BufEnter * if &buftype == '' | setlocal number | endif\n",
    "\n",
    "\" ================================\n",
    "\" Netrw (File Explorer) Cleanup\n",
    "\" ================================\n",
    "\n",
    "let g:netrw_banner = 0          \" No top banner\n",
    "let g:netrw_liststyle = 3       \" Tree-style view\n",
    "let g:netrw_browse_split = 0    \" Open files in the same window\n",
    "let g:netrw_winsize = 25        \" Width percentage\n",
    "set number\n",
    "\n",
    "\" ================================\n",
    "\" Basic Usability Tweaks\n",
    "\" ================================\n",
    "\n",
    "set mouse=a                      \" Enable mouse\n",
    "set clipboard=unnamedplus         \" Use system clipboard\n",
    "syntax enable                     \" Syntax highlighting\n",
    "filetype plugin indent on         \" Enable filetype plugins\n",
    "\n",
    "\" Line numbers in :Explore\n",
    "let g:netrw_bufsettings = 'noma nomod nu nowrap ro nobl'\n"
   ]
  },
  {
   "cell_type": "markdown",
   "id": "bba4574a",
   "metadata": {},
   "source": [
    "## Plugins"
   ]
  },
  {
   "cell_type": "markdown",
   "id": "fb748d94",
   "metadata": {},
   "source": [
    "### YouCompleteMe (C++)"
   ]
  },
  {
   "cell_type": "code",
   "execution_count": null,
   "id": "61cf594c",
   "metadata": {
    "vscode": {
     "languageId": "plaintext"
    }
   },
   "outputs": [],
   "source": [
    "sudo apt update\n",
    "sudo apt install neovim clang libclang-dev cmake python3-pip\n",
    "pip3 install --break-system-packages pynvim\n",
    "\n",
    "curl -fLo ~/.local/share/nvim/site/autoload/plug.vim --create-dirs \\\n",
    "     https://raw.githubusercontent.com/junegunn/vim-plug/master/plug.vim\n",
    "\n",
    "nvim ~/.config/nvim/init.vim"
   ]
  },
  {
   "cell_type": "markdown",
   "id": "dabf1f04",
   "metadata": {},
   "source": [
    "Lägg till i init.vim:"
   ]
  },
  {
   "cell_type": "code",
   "execution_count": null,
   "id": "dd39d417",
   "metadata": {
    "vscode": {
     "languageId": "plaintext"
    }
   },
   "outputs": [],
   "source": [
    "call plug#begin('~/.local/share/nvim/plugged')\n",
    "\n",
    "Plug 'ycm-core/YouCompleteMe'\n",
    "\n",
    "call plug#end()"
   ]
  },
  {
   "cell_type": "markdown",
   "id": "b83f2078",
   "metadata": {},
   "source": [
    "Öppna nvim och kör:"
   ]
  },
  {
   "cell_type": "code",
   "execution_count": null,
   "id": "2447ae11",
   "metadata": {
    "vscode": {
     "languageId": "plaintext"
    }
   },
   "outputs": [],
   "source": [
    ":PlugInstall"
   ]
  },
  {
   "cell_type": "markdown",
   "id": "7ad42854",
   "metadata": {},
   "source": [
    "I terminal:"
   ]
  },
  {
   "cell_type": "code",
   "execution_count": null,
   "id": "2087f45b",
   "metadata": {
    "vscode": {
     "languageId": "plaintext"
    }
   },
   "outputs": [],
   "source": [
    "cd ~/.local/share/nvim/plugged/YouCompleteMe\n",
    "python3 install.py --clang-completer"
   ]
  },
  {
   "cell_type": "markdown",
   "id": "f6684a8d",
   "metadata": {},
   "source": [
    "### Deoplete (Python autocomplete)"
   ]
  },
  {
   "cell_type": "code",
   "execution_count": null,
   "id": "7170437d",
   "metadata": {
    "vscode": {
     "languageId": "plaintext"
    }
   },
   "outputs": [],
   "source": [
    "pip install pynvim"
   ]
  },
  {
   "cell_type": "markdown",
   "id": "3db4e6c6",
   "metadata": {},
   "source": [
    "Lägg till i init.vim:"
   ]
  },
  {
   "cell_type": "code",
   "execution_count": null,
   "id": "8520da98",
   "metadata": {
    "vscode": {
     "languageId": "plaintext"
    }
   },
   "outputs": [],
   "source": [
    "Öppna:\n",
    "nvim ~/.config/nvim/init.vim"
   ]
  },
  {
   "cell_type": "code",
   "execution_count": null,
   "id": "dd8de5bc",
   "metadata": {
    "vscode": {
     "languageId": "plaintext"
    }
   },
   "outputs": [],
   "source": [
    "call plug#begin('~/.vim/plugged')\n",
    "\n",
    "\" Deoplete engine\n",
    "Plug 'Shougo/deoplete.nvim', { 'do': ':UpdateRemotePlugins' }\n",
    "\n",
    "\" Python completion\n",
    "Plug 'deoplete-plugins/deoplete-jedi'\n",
    "\n",
    "call plug#end()"
   ]
  },
  {
   "cell_type": "markdown",
   "id": "f37b6d64",
   "metadata": {},
   "source": [
    "Kör:"
   ]
  },
  {
   "cell_type": "code",
   "execution_count": null,
   "id": "f71b31bd",
   "metadata": {
    "vscode": {
     "languageId": "plaintext"
    }
   },
   "outputs": [],
   "source": [
    ":PlugInstall"
   ]
  },
  {
   "cell_type": "markdown",
   "id": "86993008",
   "metadata": {},
   "source": [
    "Lägg till i init.vim:"
   ]
  },
  {
   "cell_type": "code",
   "execution_count": null,
   "id": "2bc00b37",
   "metadata": {
    "vscode": {
     "languageId": "plaintext"
    }
   },
   "outputs": [],
   "source": [
    "\" Enable deoplete at startup\n",
    "let g:deoplete#enable_at_startup = 1"
   ]
  },
  {
   "cell_type": "markdown",
   "id": "db74418b",
   "metadata": {},
   "source": [
    "Installera:"
   ]
  },
  {
   "cell_type": "code",
   "execution_count": null,
   "id": "5d956aed",
   "metadata": {
    "vscode": {
     "languageId": "plaintext"
    }
   },
   "outputs": [],
   "source": [
    "pip install jedi"
   ]
  },
  {
   "cell_type": "markdown",
   "id": "c19d4e61",
   "metadata": {},
   "source": [
    "# Bash"
   ]
  },
  {
   "cell_type": "markdown",
   "id": "3414766d",
   "metadata": {},
   "source": [
    "## Command and string aliases"
   ]
  },
  {
   "cell_type": "markdown",
   "id": "a5cbf0d2",
   "metadata": {},
   "source": [
    "Config location:"
   ]
  },
  {
   "cell_type": "code",
   "execution_count": null,
   "id": "533fe053",
   "metadata": {
    "vscode": {
     "languageId": "plaintext"
    }
   },
   "outputs": [],
   "source": [
    "~/.bashrc"
   ]
  },
  {
   "cell_type": "markdown",
   "id": "e3f5b539",
   "metadata": {},
   "source": [
    "Example:"
   ]
  },
  {
   "cell_type": "code",
   "execution_count": null,
   "id": "c4a51301",
   "metadata": {
    "vscode": {
     "languageId": "plaintext"
    }
   },
   "outputs": [],
   "source": [
    "alias ..=\"cd ..\"\n",
    "alias ...=\"cd ../..\"\n",
    "alias ....=\"cd ../../..\"\n",
    "alias up3=\"cd ../../../\"\n",
    "\n",
    "myrepo = \"/home/jonathan\""
   ]
  },
  {
   "cell_type": "markdown",
   "id": "9a0b227f",
   "metadata": {},
   "source": [
    "Then reload the config:"
   ]
  },
  {
   "cell_type": "code",
   "execution_count": null,
   "id": "5cae3c8a",
   "metadata": {
    "vscode": {
     "languageId": "plaintext"
    }
   },
   "outputs": [],
   "source": [
    "source ~/.bashrc"
   ]
  },
  {
   "cell_type": "markdown",
   "id": "9eae9126",
   "metadata": {},
   "source": [
    "Variables accessed by for example:"
   ]
  },
  {
   "cell_type": "code",
   "execution_count": null,
   "id": "96dcfd68",
   "metadata": {
    "vscode": {
     "languageId": "plaintext"
    }
   },
   "outputs": [],
   "source": [
    "cd $myrepo"
   ]
  },
  {
   "cell_type": "markdown",
   "id": "e2f006e2",
   "metadata": {},
   "source": [
    "## Copy output from a command to clipboard\n",
    "Example:"
   ]
  },
  {
   "cell_type": "code",
   "execution_count": null,
   "id": "43927563",
   "metadata": {
    "vscode": {
     "languageId": "plaintext"
    }
   },
   "outputs": [],
   "source": [
    "// WSL\n",
    "cat text.txt | clip.exe\n",
    "\n",
    "// Ubuntu\n",
    "cat text.txt | xclip -selection clipboard"
   ]
  },
  {
   "cell_type": "markdown",
   "id": "2292ee6a",
   "metadata": {},
   "source": [
    "## List all files"
   ]
  },
  {
   "cell_type": "code",
   "execution_count": null,
   "id": "5c3403b8",
   "metadata": {
    "vscode": {
     "languageId": "plaintext"
    }
   },
   "outputs": [],
   "source": [
    "ls -a"
   ]
  },
  {
   "cell_type": "markdown",
   "id": "8908771d",
   "metadata": {},
   "source": [
    "## Move files"
   ]
  },
  {
   "cell_type": "code",
   "execution_count": null,
   "id": "40ed51d3",
   "metadata": {
    "vscode": {
     "languageId": "plaintext"
    }
   },
   "outputs": [],
   "source": [
    "mv file1 file2 ... /destination/"
   ]
  },
  {
   "cell_type": "markdown",
   "id": "e34ad835",
   "metadata": {},
   "source": [
    "## Rename files"
   ]
  },
  {
   "cell_type": "code",
   "execution_count": null,
   "id": "1b7c087d",
   "metadata": {
    "vscode": {
     "languageId": "plaintext"
    }
   },
   "outputs": [],
   "source": [
    "mv <oldname> <newname>"
   ]
  },
  {
   "cell_type": "markdown",
   "id": "d876652d",
   "metadata": {},
   "source": [
    "## Copy files"
   ]
  },
  {
   "cell_type": "code",
   "execution_count": null,
   "id": "51e083c4",
   "metadata": {
    "vscode": {
     "languageId": "plaintext"
    }
   },
   "outputs": [],
   "source": [
    "cp <source> <destination>       - You can include address aswell"
   ]
  },
  {
   "cell_type": "markdown",
   "id": "229cdf0e",
   "metadata": {},
   "source": [
    "# Vim"
   ]
  },
  {
   "cell_type": "code",
   "execution_count": null,
   "id": "fde9bcf8",
   "metadata": {
    "vscode": {
     "languageId": "plaintext"
    }
   },
   "outputs": [],
   "source": [
    "vim ."
   ]
  },
  {
   "cell_type": "markdown",
   "id": "0b11f04d",
   "metadata": {},
   "source": [
    "## Keyboard inputs"
   ]
  },
  {
   "cell_type": "code",
   "execution_count": null,
   "id": "27e6628d",
   "metadata": {
    "vscode": {
     "languageId": "plaintext"
    }
   },
   "outputs": [],
   "source": [
    "--Editing\n",
    "u                       - undo\n",
    "Ctrl+r                  - redo\n",
    "%s/<text>/<new text>/g  - replace text to new text\n",
    "\n",
    "--Navigation\n",
    "set number      - show line numbers\n",
    "<line number>   - jump to line\n",
    "Ctrl+d          - jump half screen down\n",
    "Ctrl+u          - jump half screen up\n",
    "\n",
    "{               - jump up beginning of block\n",
    "}               - jump down beginning of next block\n",
    "\n",
    "/<text>         - find text\n",
    "n               - jump to next match\n",
    "N               - jump to previous match\n",
    ":noh            - clear search highlights\n",
    "\n",
    "gg              - jump to beginning of file\n",
    "G               - jump to end of file\n",
    "\n",
    "$               - jump to end of line\n",
    "0               - jump to beginning of line\n",
    "e               - jump one word forwards\n",
    "b               - jump one word backwards\n",
    "Shift+e         - jump forward faster\n",
    "Shift+b         - jump backward faster\n",
    "\n",
    "--Window operations\n",
    "qa              - quit all\n",
    "qa!             - force quit all\n",
    "enew            - new vim buffer"
   ]
  },
  {
   "cell_type": "markdown",
   "id": "2bf533e2",
   "metadata": {},
   "source": [
    "### Terminal to normal mode\n",
    "Ctrl+\\ -> Ctrl+n"
   ]
  },
  {
   "cell_type": "markdown",
   "id": "f3ba33af",
   "metadata": {},
   "source": [
    "### Insert mode"
   ]
  },
  {
   "cell_type": "code",
   "execution_count": null,
   "id": "3fd5c1ea",
   "metadata": {
    "vscode": {
     "languageId": "plaintext"
    }
   },
   "outputs": [],
   "source": [
    "v           - insert mode\n",
    "shift+v     - line-wise visual mode"
   ]
  },
  {
   "cell_type": "code",
   "execution_count": null,
   "id": "87081f69",
   "metadata": {
    "vscode": {
     "languageId": "plaintext"
    }
   },
   "outputs": [],
   "source": [
    "y       - copy\n",
    "x       - delete\n",
    "p       - paste (insert mode)\n",
    "\"+y     - copy into clipboard (\"+y ska synas som input nere till höger)\n",
    "\"+p     - paste from clipboard\n",
    "\n",
    ">       - indent right\n",
    "<       - indent left"
   ]
  },
  {
   "cell_type": "markdown",
   "id": "192d5588",
   "metadata": {},
   "source": [
    "## Macros"
   ]
  },
  {
   "cell_type": "code",
   "execution_count": null,
   "id": "20c52394",
   "metadata": {
    "vscode": {
     "languageId": "plaintext"
    }
   },
   "outputs": [],
   "source": [
    "q -> ENTER -> <symbol att spara macron i> -> ENTER  - börja spela in\n",
    "q                                                   - sluta spela in\n",
    "@<symbolen du sparade i>                            - kör macro"
   ]
  },
  {
   "cell_type": "markdown",
   "id": "f055d3fa",
   "metadata": {},
   "source": [
    "## File explorer"
   ]
  },
  {
   "cell_type": "code",
   "execution_count": null,
   "id": "0a0ac6e7",
   "metadata": {
    "vscode": {
     "languageId": "plaintext"
    }
   },
   "outputs": [],
   "source": [
    ":Explore"
   ]
  },
  {
   "cell_type": "markdown",
   "id": "fbfb8b73",
   "metadata": {},
   "source": [
    "Opens the file explorer. Press enter to open directories and open files, - to go up one level"
   ]
  },
  {
   "cell_type": "markdown",
   "id": "9d705d97",
   "metadata": {},
   "source": [
    "## Splits"
   ]
  },
  {
   "cell_type": "code",
   "execution_count": null,
   "id": "41121597",
   "metadata": {
    "vscode": {
     "languageId": "plaintext"
    }
   },
   "outputs": [],
   "source": [
    ":vsplit\n",
    ":vsplit <script>\n",
    ":split\n",
    ":botright split         - Splits the whole current window with a bottom split"
   ]
  },
  {
   "cell_type": "markdown",
   "id": "15217e54",
   "metadata": {},
   "source": [
    "## Resizing"
   ]
  },
  {
   "cell_type": "code",
   "execution_count": null,
   "id": "c5d8439d",
   "metadata": {
    "vscode": {
     "languageId": "plaintext"
    }
   },
   "outputs": [],
   "source": [
    ":vertical resize +20\n",
    ":resize +20"
   ]
  }
 ],
 "metadata": {
  "language_info": {
   "name": "python"
  }
 },
 "nbformat": 4,
 "nbformat_minor": 5
}
