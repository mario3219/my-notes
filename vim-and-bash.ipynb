{
 "cells": [
  {
   "cell_type": "markdown",
   "id": "89ffba71",
   "metadata": {},
   "source": [
    "# Setup ViM"
   ]
  },
  {
   "cell_type": "code",
   "execution_count": null,
   "id": "bc8b6132",
   "metadata": {
    "vscode": {
     "languageId": "plaintext"
    }
   },
   "outputs": [],
   "source": [
    "sudo apt-get install nvim\n",
    "mkdir -p ~/.config/nvim\n",
    "nvim ~/.config/nvim/init.vim\n",
    "\n",
    "if argc() == 0\n",
    "  augroup NvimStartupLayout\n",
    "    autocmd!\n",
    "    autocmd VimEnter * call s:StartupView()\n",
    "  augroup END\n",
    "\n",
    "  function! s:StartupView()\n",
    "    enew\n",
    "    silent! Explore\n",
    "    wincmd H            \" Optional: make netrw take the full width\n",
    "    vertical resize 40  \" Adjust width if needed\n",
    "    wincmd L            \" Go back to main area\n",
    "    belowright split\n",
    "    execute 'terminal'\n",
    "    wincmd k\n",
    "    resize +20\n",
    "  endfunction\n",
    "endif"
   ]
  },
  {
   "cell_type": "markdown",
   "id": "c19d4e61",
   "metadata": {},
   "source": [
    "# Bash"
   ]
  },
  {
   "cell_type": "markdown",
   "id": "3414766d",
   "metadata": {},
   "source": [
    "## Command and string aliases"
   ]
  },
  {
   "cell_type": "markdown",
   "id": "a5cbf0d2",
   "metadata": {},
   "source": [
    "Config location:"
   ]
  },
  {
   "cell_type": "code",
   "execution_count": null,
   "id": "533fe053",
   "metadata": {
    "vscode": {
     "languageId": "plaintext"
    }
   },
   "outputs": [],
   "source": [
    "~/.bashrc"
   ]
  },
  {
   "cell_type": "markdown",
   "id": "e3f5b539",
   "metadata": {},
   "source": [
    "Example:"
   ]
  },
  {
   "cell_type": "code",
   "execution_count": null,
   "id": "c4a51301",
   "metadata": {
    "vscode": {
     "languageId": "plaintext"
    }
   },
   "outputs": [],
   "source": [
    "alias ..=\"cd ..\"\n",
    "alias ...=\"cd ../..\"\n",
    "alias ....=\"cd ../../..\"\n",
    "alias up3=\"cd ../../../\"\n",
    "\n",
    "myrepo = \"/home/jonathan\""
   ]
  },
  {
   "cell_type": "markdown",
   "id": "9a0b227f",
   "metadata": {},
   "source": [
    "Then reload the config:"
   ]
  },
  {
   "cell_type": "code",
   "execution_count": null,
   "id": "5cae3c8a",
   "metadata": {
    "vscode": {
     "languageId": "plaintext"
    }
   },
   "outputs": [],
   "source": [
    "source ~/.bashrc"
   ]
  },
  {
   "cell_type": "markdown",
   "id": "9eae9126",
   "metadata": {},
   "source": [
    "Variables accessed by for example:"
   ]
  },
  {
   "cell_type": "code",
   "execution_count": null,
   "id": "96dcfd68",
   "metadata": {
    "vscode": {
     "languageId": "plaintext"
    }
   },
   "outputs": [],
   "source": [
    "cd $myrepo"
   ]
  },
  {
   "cell_type": "markdown",
   "id": "e2f006e2",
   "metadata": {},
   "source": [
    "## Copy output from a command to clipboard\n",
    "Example:"
   ]
  },
  {
   "cell_type": "code",
   "execution_count": null,
   "id": "43927563",
   "metadata": {
    "vscode": {
     "languageId": "plaintext"
    }
   },
   "outputs": [],
   "source": [
    "cat text.txt | clip.exe"
   ]
  },
  {
   "cell_type": "markdown",
   "id": "2292ee6a",
   "metadata": {},
   "source": [
    "## List all files"
   ]
  },
  {
   "cell_type": "code",
   "execution_count": null,
   "id": "5c3403b8",
   "metadata": {
    "vscode": {
     "languageId": "plaintext"
    }
   },
   "outputs": [],
   "source": [
    "ls -a"
   ]
  },
  {
   "cell_type": "markdown",
   "id": "8908771d",
   "metadata": {},
   "source": [
    "## Move files"
   ]
  },
  {
   "cell_type": "code",
   "execution_count": null,
   "id": "40ed51d3",
   "metadata": {
    "vscode": {
     "languageId": "plaintext"
    }
   },
   "outputs": [],
   "source": [
    "mv file1 file2 ... /destination/"
   ]
  },
  {
   "cell_type": "markdown",
   "id": "e34ad835",
   "metadata": {},
   "source": [
    "## Rename files"
   ]
  },
  {
   "cell_type": "code",
   "execution_count": null,
   "id": "1b7c087d",
   "metadata": {
    "vscode": {
     "languageId": "plaintext"
    }
   },
   "outputs": [],
   "source": [
    "mv <oldname> <newname>"
   ]
  },
  {
   "cell_type": "markdown",
   "id": "d876652d",
   "metadata": {},
   "source": [
    "## Copy files"
   ]
  },
  {
   "cell_type": "code",
   "execution_count": null,
   "id": "51e083c4",
   "metadata": {
    "vscode": {
     "languageId": "plaintext"
    }
   },
   "outputs": [],
   "source": [
    "cp <source> <destination>       - You can include address aswell"
   ]
  },
  {
   "cell_type": "markdown",
   "id": "229cdf0e",
   "metadata": {},
   "source": [
    "# Vim"
   ]
  },
  {
   "cell_type": "code",
   "execution_count": null,
   "id": "fde9bcf8",
   "metadata": {
    "vscode": {
     "languageId": "plaintext"
    }
   },
   "outputs": [],
   "source": [
    "vim ."
   ]
  },
  {
   "cell_type": "markdown",
   "id": "0b11f04d",
   "metadata": {},
   "source": [
    "## Keyboard inputs"
   ]
  },
  {
   "cell_type": "code",
   "execution_count": null,
   "id": "27e6628d",
   "metadata": {
    "vscode": {
     "languageId": "plaintext"
    }
   },
   "outputs": [],
   "source": [
    "--Editing\n",
    "u                       - undo\n",
    "Ctrl+r                  - redo\n",
    "%s/<text>/<new text>/g  - replace text to new text\n",
    "\n",
    "--Navigation\n",
    "set number      - show line numbers\n",
    "<line number>   - jump to line\n",
    "Ctrl+d          - jump half screen down\n",
    "Ctrl+u          - jump half screen up\n",
    "\n",
    "{               - jump up beginning of block\n",
    "}               - jump down beginning of next block\n",
    "\n",
    "/<text>         - find text\n",
    "n               - jump to next match\n",
    "N               - jump to previous match\n",
    "\n",
    "gg              - jump to beginning of file\n",
    "G               - jump to end of file\n",
    "\n",
    "$               - jump to end of line\n",
    "0               - jump to beginning of line\n",
    "\n",
    "--Window operations\n",
    "qa              - quit all\n",
    "qa!             - force quit all"
   ]
  },
  {
   "cell_type": "markdown",
   "id": "2bf533e2",
   "metadata": {},
   "source": [
    "### Terminal to normal mode\n",
    "Ctrl+\\ -> Ctrl+n"
   ]
  },
  {
   "cell_type": "markdown",
   "id": "f3ba33af",
   "metadata": {},
   "source": [
    "### Insert mode"
   ]
  },
  {
   "cell_type": "code",
   "execution_count": null,
   "id": "3fd5c1ea",
   "metadata": {
    "vscode": {
     "languageId": "plaintext"
    }
   },
   "outputs": [],
   "source": [
    "v           - insert mode\n",
    "shift+v     - line-wise visual mode"
   ]
  },
  {
   "cell_type": "code",
   "execution_count": null,
   "id": "87081f69",
   "metadata": {
    "vscode": {
     "languageId": "plaintext"
    }
   },
   "outputs": [],
   "source": [
    "y       - copy\n",
    "x       - delete\n",
    "p       - paste (insert mode)\n",
    "\"+y     - Copy into clipboard (\"+y ska synas som input nere till höger)\n",
    "\n",
    ">       - indent right\n",
    "<       - indent left"
   ]
  },
  {
   "cell_type": "markdown",
   "id": "f055d3fa",
   "metadata": {},
   "source": [
    "## File explorer"
   ]
  },
  {
   "cell_type": "code",
   "execution_count": null,
   "id": "0a0ac6e7",
   "metadata": {
    "vscode": {
     "languageId": "plaintext"
    }
   },
   "outputs": [],
   "source": [
    ":Explore"
   ]
  },
  {
   "cell_type": "markdown",
   "id": "fbfb8b73",
   "metadata": {},
   "source": [
    "Opens the file explorer. Press enter to open directories and open files, - to go up one level"
   ]
  },
  {
   "cell_type": "markdown",
   "id": "9d705d97",
   "metadata": {},
   "source": [
    "## Splits"
   ]
  },
  {
   "cell_type": "code",
   "execution_count": null,
   "id": "41121597",
   "metadata": {
    "vscode": {
     "languageId": "plaintext"
    }
   },
   "outputs": [],
   "source": [
    ":vsplit\n",
    ":vsplit <script>\n",
    ":split\n",
    ":botright split         - Splits the whole current window with a bottom split"
   ]
  },
  {
   "cell_type": "markdown",
   "id": "15217e54",
   "metadata": {},
   "source": [
    "## Resizing"
   ]
  },
  {
   "cell_type": "code",
   "execution_count": null,
   "id": "c5d8439d",
   "metadata": {
    "vscode": {
     "languageId": "plaintext"
    }
   },
   "outputs": [],
   "source": [
    ":vertical resize +20\n",
    ":resize +20"
   ]
  }
 ],
 "metadata": {
  "language_info": {
   "name": "python"
  }
 },
 "nbformat": 4,
 "nbformat_minor": 5
}
