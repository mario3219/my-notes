{
 "cells": [
  {
   "cell_type": "markdown",
   "metadata": {},
   "source": [
    "# Shortcuts\n",
    "\n",
    "##### Rename all variables of that name \n",
    "<br>Ctrl+shift+L\n",
    "\n",
    "##### Comment everything marked\n",
    "<br>Ctrl+K, Ctrl+C"
   ]
  },
  {
   "cell_type": "markdown",
   "metadata": {},
   "source": [
    "##### Uncomment everything marked\n",
    "<br>Ctrl+k, Ctrl+U"
   ]
  },
  {
   "cell_type": "markdown",
   "metadata": {},
   "source": [
    "# Scripts"
   ]
  },
  {
   "cell_type": "markdown",
   "metadata": {},
   "source": [
    "## Confidence interval"
   ]
  },
  {
   "cell_type": "raw",
   "metadata": {
    "vscode": {
     "languageId": "raw"
    }
   },
   "source": [
    "def calculate_ci(data, variance=0.25, confidence=0.95):\n",
    "    estimate = np.mean(data)\n",
    "    sigma = sqrt(variance)\n",
    "    standard_error = sigma / sqrt(len(data))\n",
    "    \n",
    "    z_value = 1.96  # This corresponds to 95% confidence\n",
    "    error = z_value * standard_error\n",
    "    confidence_interval = (estimate - error, estimate + error)\n",
    "    \n",
    "    return confidence_interval"
   ]
  },
  {
   "cell_type": "markdown",
   "metadata": {},
   "source": [
    "# Speciella python kommandon"
   ]
  },
  {
   "cell_type": "markdown",
   "metadata": {},
   "source": [
    "### User input"
   ]
  },
  {
   "cell_type": "code",
   "execution_count": 1,
   "metadata": {},
   "outputs": [
    {
     "name": "stdout",
     "output_type": "stream",
     "text": [
      "\n"
     ]
    }
   ],
   "source": [
    "# user input\n",
    "user_input = input('Man kan använda prompts som parameter: ')\n",
    "print(user_input)"
   ]
  },
  {
   "cell_type": "markdown",
   "metadata": {},
   "source": [
    "### raise (error meddelanden)"
   ]
  },
  {
   "cell_type": "code",
   "execution_count": null,
   "metadata": {},
   "outputs": [],
   "source": [
    "raise ValueError('Bad value')"
   ]
  },
  {
   "cell_type": "markdown",
   "metadata": {},
   "source": [
    "# Allmän python"
   ]
  },
  {
   "cell_type": "markdown",
   "metadata": {},
   "source": [
    "### For-loops"
   ]
  },
  {
   "cell_type": "raw",
   "metadata": {
    "vscode": {
     "languageId": "raw"
    }
   },
   "source": [
    "its=100\n",
    "for x in range(its):\n",
    "    print(\"hello\")"
   ]
  },
  {
   "cell_type": "markdown",
   "metadata": {},
   "source": [
    "### Import .py module from subdirectory\n",
    "\n",
    "Suppose you have this structure:"
   ]
  },
  {
   "cell_type": "raw",
   "metadata": {
    "vscode": {
     "languageId": "raw"
    }
   },
   "source": [
    "project/\n",
    "│── main.py\n",
    "│── subdir/\n",
    "    └── mymodule.py"
   ]
  },
  {
   "cell_type": "markdown",
   "metadata": {},
   "source": [
    "Add __init__.py inside subdir/ (it can be empty). This turns the folder into a package:"
   ]
  },
  {
   "cell_type": "raw",
   "metadata": {},
   "source": [
    "subdir/\n",
    "├── __init__.py\n",
    "└── mymodule.py"
   ]
  },
  {
   "cell_type": "markdown",
   "metadata": {},
   "source": [
    "Now in main.py:"
   ]
  },
  {
   "cell_type": "raw",
   "metadata": {
    "vscode": {
     "languageId": "raw"
    }
   },
   "source": [
    "from subdir import mymodule\n",
    "# or\n",
    "from subdir.mymodule import some_function"
   ]
  },
  {
   "cell_type": "markdown",
   "metadata": {},
   "source": [
    "### kolla så parametrar är av rätt typ i metoder"
   ]
  },
  {
   "cell_type": "code",
   "execution_count": null,
   "metadata": {},
   "outputs": [],
   "source": [
    "def factorial(n):\n",
    "    if not isinstance(n, int):\n",
    "        print('Factorial is not an integer')\n",
    "        return False\n",
    "    else:\n",
    "        print('Factorial is an integer')\n",
    "        return True\n",
    "\n",
    "n = 5    \n",
    "factorial(n)\n",
    "n = 'example string'\n",
    "factorial(n)"
   ]
  },
  {
   "cell_type": "markdown",
   "metadata": {},
   "source": [
    "## Data"
   ]
  },
  {
   "cell_type": "markdown",
   "metadata": {},
   "source": [
    "### Combine x and y to to one array"
   ]
  },
  {
   "cell_type": "markdown",
   "metadata": {},
   "source": [
    "### hämta intervaller från färdiga vektorer"
   ]
  },
  {
   "cell_type": "code",
   "execution_count": null,
   "metadata": {},
   "outputs": [],
   "source": [
    "# att hämta intervaller\n",
    "string = 'monty'\n",
    "interval = string[0:4]\n",
    "print(interval)"
   ]
  },
  {
   "cell_type": "markdown",
   "metadata": {},
   "source": [
    "### Räkna med vektorer och matriser"
   ]
  },
  {
   "cell_type": "markdown",
   "metadata": {},
   "source": [
    "### Skapa intervaller"
   ]
  },
  {
   "cell_type": "code",
   "execution_count": null,
   "metadata": {},
   "outputs": [],
   "source": [
    "# att skapa intervaller\n",
    "\n",
    "import numpy as np\n",
    "\n",
    "array = np.arange(10, 100, 5) #arange(start, stop, step)\n",
    "print(array)\n",
    "\n",
    "# eller linspace\n",
    "\n",
    "array = np.linspace(1, 10, 5) #linspace(start, stop, antal element)\n",
    "print(array)"
   ]
  },
  {
   "cell_type": "markdown",
   "metadata": {},
   "source": [
    "### sort()"
   ]
  },
  {
   "cell_type": "code",
   "execution_count": null,
   "metadata": {},
   "outputs": [],
   "source": [
    "list = [2, 5, 1, 3]\n",
    "list.sort()\n",
    "print(list)"
   ]
  },
  {
   "cell_type": "markdown",
   "metadata": {},
   "source": [
    "### extend()"
   ]
  },
  {
   "cell_type": "code",
   "execution_count": null,
   "metadata": {},
   "outputs": [],
   "source": [
    "# kombinera listor\n",
    "\n",
    "list1 = [1, 2, 3]\n",
    "list2 = [4, 5, 6]\n",
    "list1.extend(list2)\n",
    "print(list1)"
   ]
  },
  {
   "cell_type": "markdown",
   "metadata": {},
   "source": [
    "### del() och remove()"
   ]
  },
  {
   "cell_type": "code",
   "execution_count": null,
   "metadata": {},
   "outputs": [],
   "source": [
    "# del() tar bort elementet i den indexet\n",
    "\n",
    "list = [1, 2, 3]\n",
    "del list[2]\n",
    "print(list)\n",
    "\n",
    "# remove() tar bort elementet\n",
    "\n",
    "list.remove(1)\n",
    "print(list)"
   ]
  },
  {
   "cell_type": "markdown",
   "metadata": {},
   "source": [
    "## Dictionaries"
   ]
  },
  {
   "cell_type": "markdown",
   "metadata": {},
   "source": [
    "## Strings"
   ]
  },
  {
   "cell_type": "markdown",
   "metadata": {},
   "source": [
    "### String metoder"
   ]
  },
  {
   "cell_type": "code",
   "execution_count": null,
   "metadata": {},
   "outputs": [],
   "source": [
    "word = 'banana'\n",
    "print(word)\n",
    "new_word = word.upper()\n",
    "print(new_word)"
   ]
  },
  {
   "cell_type": "markdown",
   "metadata": {},
   "source": [
    "## Import script functions"
   ]
  },
  {
   "cell_type": "raw",
   "metadata": {
    "vscode": {
     "languageId": "raw"
    }
   },
   "source": [
    "# Example\n",
    "from help_funcs_SSP import signalsim, getCov, melSpectrogram, melFil"
   ]
  },
  {
   "cell_type": "markdown",
   "metadata": {},
   "source": [
    "# Plots (don't add more guides here)"
   ]
  },
  {
   "cell_type": "markdown",
   "metadata": {},
   "source": [
    "## Hur man plottar"
   ]
  },
  {
   "cell_type": "code",
   "execution_count": null,
   "metadata": {},
   "outputs": [],
   "source": [
    "# plotta en funktion\n",
    "\n",
    "import numpy as np\n",
    "import matplotlib.pyplot as plt\n",
    "\n",
    "def f(x):\n",
    "    return np.sin(x)\n",
    "x = np.linspace(1, 10, 50)\n",
    "\n",
    "plt.plot(x, f(x))\n",
    "plt.title('My graph')\n",
    "plt.ylabel('y-axis')\n",
    "plt.xlabel('x-axis')\n",
    "\n",
    "# man behöver inte göra hold on som i matlab\n",
    "\n",
    "def f2(x):\n",
    "    return np.cos(x)\n",
    "plt.plot(x, f2(x))\n",
    "plt.scatter(x, f2(x))"
   ]
  },
  {
   "cell_type": "markdown",
   "metadata": {},
   "source": [
    "## Öppna plots i nytt fönster"
   ]
  },
  {
   "cell_type": "code",
   "execution_count": null,
   "metadata": {},
   "outputs": [],
   "source": [
    "# skapa en plot figur i ny fönster\n",
    "\n",
    "import numpy as np\n",
    "import matplotlib.pyplot as plt\n",
    "\n",
    "def f(x):\n",
    "    return np.sin(x)\n",
    "x = np.linspace(1, 10, 50)\n",
    "\n",
    "plt.figure()\n",
    "plt.plot(x, f(x))\n",
    "plt.show()"
   ]
  },
  {
   "cell_type": "markdown",
   "metadata": {},
   "source": [
    "## Subplots"
   ]
  },
  {
   "cell_type": "code",
   "execution_count": null,
   "metadata": {},
   "outputs": [],
   "source": [
    "# subplots\n",
    "\n",
    "import numpy as np\n",
    "import matplotlib.pyplot as plt\n",
    "\n",
    "def f(x):\n",
    "    return np.sin(x)\n",
    "x = np.linspace(1, 10, 50)\n",
    "\n",
    "fig, (plot1, plot2) = plt.subplots(2)\n",
    "plot1.plot(x, f(x))\n",
    "plot2.plot(x, f(x)*2)"
   ]
  },
  {
   "cell_type": "markdown",
   "metadata": {},
   "source": [
    "## Plot gränser"
   ]
  },
  {
   "cell_type": "code",
   "execution_count": null,
   "metadata": {},
   "outputs": [],
   "source": [
    "# sätt limits\n",
    "\n",
    "import numpy as np\n",
    "import matplotlib.pyplot as plt\n",
    "\n",
    "def f(x):\n",
    "    return np.sin(x)\n",
    "x = np.linspace(0, 10, 50)\n",
    "\n",
    "plt.plot(x, f(x))\n",
    "plt.axis([0, 5, 0, 1]) # 0 och 5 är för x, 0 och 1 för y"
   ]
  },
  {
   "cell_type": "markdown",
   "metadata": {},
   "source": [
    "# Course topics"
   ]
  },
  {
   "cell_type": "markdown",
   "metadata": {},
   "source": [
    "## Matte"
   ]
  },
  {
   "cell_type": "markdown",
   "metadata": {},
   "source": [
    "### Linjär algebra"
   ]
  },
  {
   "cell_type": "markdown",
   "metadata": {},
   "source": [
    "#### Matris multiplikation"
   ]
  },
  {
   "cell_type": "code",
   "execution_count": null,
   "metadata": {},
   "outputs": [],
   "source": [
    "X_train = np.linspace(0, 5, 15).reshape(-1, 1) \n",
    "y_train = np.sqrt(X_train) + 0.1 * np.random.randn(*X_train.shape)\n",
    "\n",
    "X_true = np.linspace(0, 5, 100).reshape(-1, 1)\n",
    "y_true = np.sqrt(X_true)\n",
    "\n",
    "X = X_train\n",
    "y = y_train\n",
    "\n",
    "print(x,y)\n",
    "print( np.matmul(X.T, y) )"
   ]
  },
  {
   "cell_type": "markdown",
   "metadata": {},
   "source": [
    "#### inverse"
   ]
  },
  {
   "cell_type": "code",
   "execution_count": null,
   "metadata": {},
   "outputs": [],
   "source": [
    "# np.linalg.inv(<matrix>)"
   ]
  },
  {
   "cell_type": "markdown",
   "metadata": {},
   "source": [
    "#### Add column to matrix"
   ]
  },
  {
   "cell_type": "code",
   "execution_count": null,
   "metadata": {},
   "outputs": [],
   "source": [
    "np.hstack(<column>, <matrix>)"
   ]
  },
  {
   "cell_type": "markdown",
   "metadata": {},
   "source": [
    "#### Anpassa polynom till data"
   ]
  },
  {
   "cell_type": "code",
   "execution_count": null,
   "metadata": {},
   "outputs": [],
   "source": [
    "def create_monomials(X):\n",
    "    # Choose degree of polynomial here, for 1 we should get the same as above\n",
    "    n = 5 \n",
    "    terms = []\n",
    "    for i in range(n + 1):\n",
    "        terms.append(X**i)\n",
    "    return np.hstack(terms)\n",
    "\n",
    "X = create_monomials(X_train)\n",
    "y = y_train\n",
    "\n",
    "theta = np.matmul(np.linalg.inv(np.matmul(X.T, X)), np.matmul(X.T, y))\n",
    "\n",
    "y = np.matmul(create_monomials(X_true), theta)\n",
    "\n",
    "plt.scatter(X_train, y_train)\n",
    "plt.plot(X_true, y_true)\n",
    "plt.plot(X_true, y)"
   ]
  },
  {
   "cell_type": "markdown",
   "metadata": {},
   "source": [
    "#### Transpose"
   ]
  },
  {
   "cell_type": "raw",
   "metadata": {
    "vscode": {
     "languageId": "raw"
    }
   },
   "source": [
    "import numpy as np\n",
    "\n",
    "A = np.array([[1, 2, 3],\n",
    "              [4, 5, 6]])\n",
    "\n",
    "A_T = A.T\n",
    "print(A_T)"
   ]
  },
  {
   "cell_type": "markdown",
   "metadata": {},
   "source": [
    "### Mathematic expressions"
   ]
  },
  {
   "cell_type": "markdown",
   "metadata": {},
   "source": [
    "#### e^"
   ]
  },
  {
   "cell_type": "code",
   "execution_count": null,
   "metadata": {},
   "outputs": [],
   "source": [
    "np.exp()"
   ]
  },
  {
   "cell_type": "markdown",
   "metadata": {},
   "source": [
    "#### |x|"
   ]
  },
  {
   "cell_type": "code",
   "execution_count": null,
   "metadata": {},
   "outputs": [],
   "source": [
    "np.abs(x)"
   ]
  },
  {
   "cell_type": "markdown",
   "metadata": {},
   "source": [
    "#### x^2"
   ]
  },
  {
   "cell_type": "code",
   "execution_count": null,
   "metadata": {},
   "outputs": [],
   "source": [
    "x**2"
   ]
  },
  {
   "cell_type": "markdown",
   "metadata": {},
   "source": [
    "#### pi"
   ]
  },
  {
   "cell_type": "code",
   "execution_count": null,
   "metadata": {},
   "outputs": [],
   "source": [
    "np.pi"
   ]
  },
  {
   "cell_type": "markdown",
   "metadata": {},
   "source": [
    "#### e"
   ]
  },
  {
   "cell_type": "code",
   "execution_count": null,
   "metadata": {},
   "outputs": [],
   "source": [
    "np.e"
   ]
  },
  {
   "cell_type": "markdown",
   "metadata": {},
   "source": [
    "#### imaginary i\n",
    "The compiler interprets 1 followed by a j is an imaginary i."
   ]
  },
  {
   "cell_type": "code",
   "execution_count": null,
   "metadata": {},
   "outputs": [],
   "source": [
    "1j"
   ]
  },
  {
   "cell_type": "markdown",
   "metadata": {},
   "source": [
    "### Räkna med vektorer och matriser"
   ]
  },
  {
   "cell_type": "code",
   "execution_count": null,
   "metadata": {},
   "outputs": [],
   "source": [
    "# att räkna med vektorer och matriser som i linjär algebra görs med numpy\n",
    "\n",
    "import numpy as np\n",
    "\n",
    "vektor1 = [1, 2, 3]\n",
    "vektor2 = [4, 5, 6]\n",
    "\n",
    "vektor1 = np.array(vektor1)\n",
    "vektor2 = np.array(vektor2)\n",
    "\n",
    "sum = vektor1 + vektor2\n",
    "print('vektor 1: ' + str(vektor1) + '\\nvektor 2: ' + str(vektor2)  + '\\nsumma: ' + str(sum))\n",
    "\n",
    "#---------Matriser---------#\n",
    "\n",
    "matrix = np.matrix([[1,2,3], [4,5,6], [7,8,9]])\n",
    "print(matrix)\n",
    "print(matrix*2)\n",
    "print(matrix**2)\n",
    "print(matrix/2)\n",
    "print(vektor2*matrix)"
   ]
  },
  {
   "cell_type": "markdown",
   "metadata": {},
   "source": [
    "### Räkna symboliskt och förenkla/utöka ekvationer"
   ]
  },
  {
   "cell_type": "code",
   "execution_count": null,
   "metadata": {},
   "outputs": [],
   "source": [
    "# räkna symboliskt\n",
    "import sympy as sym\n",
    "\n",
    "x = sym.Symbol('x')\n",
    "y = sym.Symbol('y')\n",
    "print(x+x)\n",
    "\n",
    "func = (x+y)**3\n",
    "expanded = sym.expand(func)\n",
    "print(expanded)\n",
    "\n",
    "simplified = sym.simplify(expanded)\n",
    "print(simplified)"
   ]
  },
  {
   "cell_type": "markdown",
   "metadata": {},
   "source": [
    "### Lösa ekvationer"
   ]
  },
  {
   "cell_type": "code",
   "execution_count": null,
   "metadata": {},
   "outputs": [],
   "source": [
    "# lösa ekvationer\n",
    "from sympy.solvers import solve\n",
    "import sympy as sym\n",
    "from sympy.abc import x, y #importerar x och y direkt som symboliska variabler\n",
    "\n",
    "eq = x**2 - 5 # översatt från x**2 = 5 -> x**2-5, alltså att ekvationen måste vara = 0\n",
    "solve(eq)\n",
    "\n",
    "eq = x**2 - y\n",
    "solve(eq, x) #löser i hänsyn till x"
   ]
  },
  {
   "cell_type": "markdown",
   "metadata": {},
   "source": [
    "### Lösa ekvationssystem"
   ]
  },
  {
   "cell_type": "code",
   "execution_count": null,
   "metadata": {},
   "outputs": [],
   "source": [
    "# ekvation system\n",
    "\n",
    "from sympy.solvers import solve\n",
    "from sympy.abc import x, y, z\n",
    "\n",
    "eq = [x + y - 2*z, y + 4*z] #två ekvationer\n",
    "solve(eq, [x, y]) #löser i hänsyn till x och y"
   ]
  },
  {
   "cell_type": "markdown",
   "metadata": {},
   "source": [
    "### Matris ekvationer i formen Ax = y"
   ]
  },
  {
   "cell_type": "code",
   "execution_count": null,
   "metadata": {},
   "outputs": [],
   "source": [
    "from sympy import symbols\n",
    "from sympy.matrices import Matrix\n",
    "\n",
    "c, d, e = symbols(\"c, d, e\")\n",
    "A = Matrix([[c,d], [1, -e]])\n",
    "b = Matrix([2, 0])\n",
    "A.solve(b)"
   ]
  },
  {
   "cell_type": "markdown",
   "metadata": {},
   "source": [
    "### Differential ekvationer"
   ]
  },
  {
   "cell_type": "code",
   "execution_count": null,
   "metadata": {},
   "outputs": [],
   "source": [
    "from sympy import Function, dsolve, Derivative, checkodesol\n",
    "from sympy.abc import x\n",
    "\n",
    "#ekvation att lösa: y'' + 9*y(x) = 0\n",
    "\n",
    "y = Function('y') #definierar y som funktion\n",
    "yp = y(x).diff(x) #definierar funktionen y'(x)\n",
    "ypp = yp.diff(x) #definierar funktionen y''(x)\n",
    "\n",
    "result = dsolve(ypp + 9*y(x), y(x)) #andra parametern -> lösa för y(x)\n",
    "result"
   ]
  },
  {
   "cell_type": "code",
   "execution_count": null,
   "metadata": {},
   "outputs": [],
   "source": [
    "#kolla om lösningen är rätt\n",
    "checkodesol(ypp + 9*y(x), result)"
   ]
  },
  {
   "cell_type": "code",
   "execution_count": null,
   "metadata": {},
   "outputs": [],
   "source": [
    "# man kan använda Derivative för att skapa diff uttryck\n",
    "\n",
    "ypp = Derivative(y(x), x, x)\n",
    "ypp"
   ]
  },
  {
   "cell_type": "code",
   "execution_count": null,
   "metadata": {},
   "outputs": [],
   "source": [
    "yp = Derivative(y(x), x)\n",
    "yp"
   ]
  },
  {
   "cell_type": "markdown",
   "metadata": {},
   "source": [
    "### Boundary conditions"
   ]
  },
  {
   "cell_type": "code",
   "execution_count": null,
   "metadata": {},
   "outputs": [],
   "source": [
    "dsolve(ypp + 9*y(x), y(x), ics={y(0): 0, y(1): 1}) #tredje parametern är boundary conditions"
   ]
  },
  {
   "attachments": {
    "image.png": {
     "image/png": "[encoded data removed]"
    }
   },
   "cell_type": "markdown",
   "metadata": {},
   "source": [
    "### Simulera state-space modeller\n",
    "\n",
    "![image.png](attachment:image.png)"
   ]
  },
  {
   "cell_type": "code",
   "execution_count": null,
   "metadata": {},
   "outputs": [],
   "source": [
    "import scipy.signal as sig\n",
    "import matplotlib.pyplot as plt\n",
    "import numpy as np\n",
    "\n",
    "#Simulation Parameters\n",
    "x0 = [0,0]\n",
    "start = 0\n",
    "stop = 30\n",
    "step = 1\n",
    "t = np.arange(start,stop,step)\n",
    "\n",
    "K = 3\n",
    "T = 4\n",
    "\n",
    "# State-space Model\n",
    "A = [[-1/T, 0],\n",
    "[0, 0]]\n",
    "B = [[K/T],\n",
    "[0]]\n",
    "C = [[1, 0]]\n",
    "D = 0\n",
    "\n",
    "sys = sig.StateSpace(A, B, C, D)\n",
    "\n",
    "# Step Response\n",
    "t, y = sig.step(sys, x0, t)\n",
    "\n",
    "# Plotting\n",
    "plt.plot(t, y)\n",
    "plt.title(\"Step Response\")\n",
    "plt.xlabel(\"t\")\n",
    "plt.ylabel(\"y\")\n",
    "plt.grid()\n",
    "plt.show()"
   ]
  },
  {
   "cell_type": "markdown",
   "metadata": {},
   "source": [
    "### Plotta joint distribution"
   ]
  },
  {
   "cell_type": "code",
   "execution_count": null,
   "metadata": {},
   "outputs": [],
   "source": [
    "import numpy as np\n",
    "import matplotlib.pyplot as plt\n",
    "\n",
    "# Create a 2D histogram to estimate joint distribution\n",
    "plt.figure(figsize=(8,6))\n",
    "plt.hist2d(X, W, bins=50, cmap='Blues', density=True)\n",
    "\n",
    "# Add color bar to show the density\n",
    "plt.colorbar(label='Density')\n",
    "\n",
    "# Labels and title\n",
    "plt.xlabel('X')\n",
    "plt.ylabel('W')\n",
    "plt.title('Joint Distribution of X and W (2D Histogram)')\n",
    "\n",
    "plt.show()"
   ]
  },
  {
   "cell_type": "markdown",
   "metadata": {},
   "source": [
    "## Machine learning"
   ]
  },
  {
   "cell_type": "markdown",
   "metadata": {},
   "source": [
    "### Generella saker"
   ]
  },
  {
   "cell_type": "markdown",
   "metadata": {},
   "source": [
    "#### Training/validation split"
   ]
  },
  {
   "cell_type": "code",
   "execution_count": null,
   "metadata": {},
   "outputs": [],
   "source": [
    "from sklearn.model_selection import train_test_split\n",
    "x_train, x_test, y_train, y_test = train_test_split(digits.data, digits.target, test_size=0.25, random_state=42)\n",
    "\n",
    "#eller\n",
    "\n",
    "X, y = training.iloc[:, 0:12], training.iloc[:, 13] #väljer kolumner\n",
    "x_train, x_test, y_train, y_test = train_test_split(X, y, test_size=0.30, random_state=42)"
   ]
  },
  {
   "cell_type": "markdown",
   "metadata": {},
   "source": [
    "#### Test score"
   ]
  },
  {
   "cell_type": "code",
   "execution_count": null,
   "metadata": {},
   "outputs": [],
   "source": [
    "score = model.score(x_test, y_test)\n",
    "print('{0:.4f}'.format(score))"
   ]
  },
  {
   "cell_type": "markdown",
   "metadata": {},
   "source": [
    "#### One-hot encoding"
   ]
  },
  {
   "cell_type": "code",
   "execution_count": null,
   "metadata": {},
   "outputs": [],
   "source": [
    "import pandas as pd\n",
    "from sklearn.preprocessing import OneHotEncoder\n",
    "from sklearn.preprocessing import LabelEncoder\n",
    "from sklearn.compose import ColumnTransformer\n",
    "\n",
    "data = pd.DataFrame({\n",
    "        'zone': ['A','B','C','A','C','B','A','D','A','B','C','A'],\n",
    "        'price': [3,6,12,4,10,5,2,14,3,7,11,4]\n",
    "    })\n",
    "\n",
    "# creating one hot encoder object with categorical feature 0\n",
    "# indicating the first column\n",
    "columnTransformer = ColumnTransformer([('encoder',\n",
    "                                        OneHotEncoder(),\n",
    "                                        [0])],\n",
    "                                      remainder='passthrough')\n",
    "\n",
    "data_onehot=columnTransformer.fit_transform(data)\n",
    "\n",
    "le = LabelEncoder()\n",
    "data['zone'] = le.fit_transform(data['zone'])"
   ]
  },
  {
   "cell_type": "markdown",
   "metadata": {},
   "source": [
    "#### Cross-val score"
   ]
  },
  {
   "cell_type": "code",
   "execution_count": null,
   "metadata": {},
   "outputs": [],
   "source": [
    "from sklearn.model_selection import cross_val_score\n",
    "str(np.mean(cross_val_score(model, X, y, cv=5))) #model är din classifier, X=x_test, y=y_test"
   ]
  },
  {
   "cell_type": "markdown",
   "metadata": {},
   "source": [
    "#### Feature importance"
   ]
  },
  {
   "cell_type": "code",
   "execution_count": null,
   "metadata": {},
   "outputs": [],
   "source": [
    "clf = RandomForestClassifier() #exempel classifier\n",
    "clf.fit(x_train, y_train) #training\n",
    "print(clf.feature_importances_)"
   ]
  },
  {
   "cell_type": "markdown",
   "metadata": {},
   "source": [
    "#### Outlier detection"
   ]
  },
  {
   "cell_type": "code",
   "execution_count": null,
   "metadata": {},
   "outputs": [],
   "source": [
    "from sklearn.ensemble import IsolationForest\n",
    "\n",
    "model = IsolationForest(contamination=0.04, random_state=42,  n_jobs=-1)\n",
    "outliers = model.fit_predict(training.iloc[:,feature_selection]) #returns an array containing -1 or 1's, indicating outliers or inliners\n",
    "cleaned_data = training[outliers == 1] #keep only inliers"
   ]
  },
  {
   "cell_type": "markdown",
   "metadata": {},
   "source": [
    "#### GridSearch"
   ]
  },
  {
   "cell_type": "code",
   "execution_count": null,
   "metadata": {},
   "outputs": [],
   "source": [
    "clf = RandomForestClassifier() #välj classifier\n",
    "\n",
    "test = np.arange(0.1,1.0,0.2).tolist()\n",
    "\n",
    "param_grid = {\n",
    "    'n_estimators': [10],\n",
    "    'max_features': ['auto', 'sqrt', 'log2'],\n",
    "    'max_depth': [None, 10, 20, 30, 40, 50],\n",
    "    'min_samples_split': [2, 5, 10],\n",
    "    'min_samples_leaf': [1, 2, 4],\n",
    "    'bootstrap': [True],\n",
    "    'criterion': ['gini', 'entropy', 'log_loss'],\n",
    "    'class_weight': [None, 'balanced'],\n",
    "    'max_features': test,\n",
    "    'max_samples': test,\n",
    "    'random_state': [rng],\n",
    "    'warm_start': [False, True],\n",
    "    'ccp_alpha': [0.0, 0.01, 0.1, 0.001]\n",
    "    }\n",
    "\n",
    "search = GridSearchCV(clf, param_grid, cv=3, verbose=1, scoring='f1', n_jobs=-1)\n",
    "\n",
    "X, y = training.iloc[:, feature_selection], training.iloc[:, 10]\n",
    "x_train, x_val, y_train, y_val = train_test_split(X, y, test_size=0.30, random_state=42)\n",
    "\n",
    "search.fit(x_train, y_train)\n",
    "score = search.score(x_val, y_val)\n",
    "print(\"Best CV score: {} using {}\".format(search.best_score_, search.best_params_))\n",
    "print(\"Test accuracy: {}\".format(score))"
   ]
  },
  {
   "cell_type": "markdown",
   "metadata": {},
   "source": [
    "#### StandardScaler"
   ]
  },
  {
   "cell_type": "code",
   "execution_count": null,
   "metadata": {},
   "outputs": [],
   "source": [
    "from sklearn.preprocessing import StandardScaler\n",
    "scaler = StandardScaler()\n",
    "scaled_data = scaler.fit_transform(data)"
   ]
  },
  {
   "cell_type": "markdown",
   "metadata": {},
   "source": [
    "### Libraries and models"
   ]
  },
  {
   "cell_type": "code",
   "execution_count": null,
   "metadata": {},
   "outputs": [],
   "source": [
    "import numpy as np #matte\n",
    "import matplotlib.pyplot as plt #plotting\n",
    "from sklearn.model_selection import cross_val_score #score\n",
    "\n",
    "#models\n",
    "from sklearn.linear_model import LinearRegression"
   ]
  },
  {
   "cell_type": "markdown",
   "metadata": {},
   "source": [
    "### Presenting data"
   ]
  },
  {
   "cell_type": "markdown",
   "metadata": {},
   "source": [
    "#### Pandas"
   ]
  },
  {
   "cell_type": "markdown",
   "metadata": {},
   "source": [
    "##### Processing"
   ]
  },
  {
   "cell_type": "markdown",
   "metadata": {},
   "source": [
    "###### Drop columns"
   ]
  },
  {
   "cell_type": "code",
   "execution_count": null,
   "metadata": {},
   "outputs": [],
   "source": [
    "data = data.drop(['column 1', 'column 2'], axis=1)"
   ]
  },
  {
   "cell_type": "markdown",
   "metadata": {},
   "source": [
    "###### Fill NaN"
   ]
  },
  {
   "cell_type": "code",
   "execution_count": null,
   "metadata": {},
   "outputs": [],
   "source": [
    "data = data.fillna(\"S\")\n",
    "\n",
    "data[\"column\"] = data[\"column\"].fillna(\"S\") #for a specific column"
   ]
  },
  {
   "cell_type": "markdown",
   "metadata": {},
   "source": [
    "###### Replace values"
   ]
  },
  {
   "cell_type": "code",
   "execution_count": null,
   "metadata": {},
   "outputs": [],
   "source": [
    "X[c]=X[c].replace(0,pd.NA) #Replace 0 with NA"
   ]
  },
  {
   "cell_type": "markdown",
   "metadata": {},
   "source": [
    "##### Create panda dataset"
   ]
  },
  {
   "cell_type": "code",
   "execution_count": null,
   "metadata": {},
   "outputs": [],
   "source": [
    "import pandas as pd\n",
    "data = pd.DataFrame({\n",
    "        'zone': ['A','B','C','A','C','B','A','D','A','B','C','A'],\n",
    "        'price': [3,6,12,4,10,5,2,14,3,7,11,4]\n",
    "    })"
   ]
  },
  {
   "cell_type": "markdown",
   "metadata": {},
   "source": [
    "##### Print random data points (head)"
   ]
  },
  {
   "cell_type": "code",
   "execution_count": null,
   "metadata": {},
   "outputs": [],
   "source": [
    "data.head()\n",
    "#eller\n",
    "data.sample(5) #hur många samples du vill visa"
   ]
  },
  {
   "cell_type": "markdown",
   "metadata": {},
   "source": [
    "##### Print data information"
   ]
  },
  {
   "cell_type": "code",
   "execution_count": null,
   "metadata": {},
   "outputs": [],
   "source": [
    "data.info()"
   ]
  },
  {
   "cell_type": "markdown",
   "metadata": {},
   "source": [
    "##### Get correlation info"
   ]
  },
  {
   "cell_type": "code",
   "execution_count": null,
   "metadata": {},
   "outputs": [],
   "source": [
    "from pandas import Series,DataFrame\n",
    "coeff_df = DataFrame(data.columns.delete(0))\n",
    "coeff_df.columns = ['Features']\n",
    "coeff_df[\"Coefficient\"] = pd.Series(model.coef_[0])"
   ]
  },
  {
   "cell_type": "markdown",
   "metadata": {},
   "source": [
    "##### Get feature importance"
   ]
  },
  {
   "cell_type": "code",
   "execution_count": null,
   "metadata": {},
   "outputs": [],
   "source": [
    "feature_df = DataFrame(data.columns.delete(0))\n",
    "feature_df.columns = ['Features']\n",
    "feature_df[\"Feature Importance\"] = pd.Series(model.feature_importances_)"
   ]
  },
  {
   "cell_type": "markdown",
   "metadata": {},
   "source": [
    "##### Scatter matrix"
   ]
  },
  {
   "cell_type": "code",
   "execution_count": null,
   "metadata": {},
   "outputs": [],
   "source": [
    "from pandas.plotting import scatter_matrix\n",
    "\n",
    "df=pd.DataFrame(iris.data)\n",
    "colMap={0:\"red\",1:\"green\",2:\"blue\"}\n",
    "cols=list(map(lambda x:colMap.get(x),iris.target))\n",
    "scatter_matrix(df,  diagonal='hist',c=cols,figsize = (12,8))\n",
    "fig1 = plt.gcf()"
   ]
  },
  {
   "cell_type": "markdown",
   "metadata": {},
   "source": [
    "##### Contour map"
   ]
  },
  {
   "cell_type": "code",
   "execution_count": null,
   "metadata": {},
   "outputs": [],
   "source": [
    "from sklearn.linear_model import LogisticRegression\n",
    "\n",
    "#input\n",
    "x0, x1 = np.meshgrid(\n",
    "        np.linspace(4, 8, 500).reshape(-1, 1),\n",
    "        np.linspace(1, 7, 200).reshape(-1, 1),\n",
    "    )\n",
    "\n",
    "#formar input i x new\n",
    "X_new = np.c_[x0.ravel(), x1.ravel()]\n",
    "\n",
    "#beräknar linjerna\n",
    "y_proba = softmaxmodel2.predict_proba(X_new)\n",
    "y_predict = softmaxmodel2.predict(X_new)\n",
    "\n",
    "#samlar linjerna\n",
    "zz1 = y_proba[:, 1].reshape(x0.shape)\n",
    "zz = y_predict.reshape(x0.shape)\n",
    "\n",
    "#plottar punkter\n",
    "plt.figure(figsize=(8, 8))\n",
    "plt.plot(X2[y==2, 0], X2[y==2, 1], \"bs\", label=\"Iris virginica\")\n",
    "plt.plot(X2[y==1, 0], X2[y==1, 1], \"go\", label=\"Iris versicolor\")\n",
    "plt.plot(X2[y==0, 0], X2[y==0, 1], \"r^\", label=\"Iris setosa\")\n",
    "\n",
    "from matplotlib.colors import ListedColormap\n",
    "custom_cmap = ListedColormap(['#ffaaaa','#aaffaa','#aaaaff'])\n",
    "\n",
    "#plottar linjer\n",
    "plt.contourf(x0, x1, zz, cmap=custom_cmap)\n",
    "contour = plt.contour(x0, x1, zz1, cmap=plt.cm.brg)\n",
    "plt.clabel(contour, inline=1, fontsize=12)\n",
    "plt.xlabel(\"Sepal length\", fontsize=14)\n",
    "plt.ylabel(\"Petal length\", fontsize=14)\n",
    "plt.legend(loc=\"upper left\", fontsize=14)\n",
    "plt.axis([4, 8, 1, 7])"
   ]
  },
  {
   "cell_type": "markdown",
   "metadata": {},
   "source": [
    "##### Histogram map"
   ]
  },
  {
   "cell_type": "code",
   "execution_count": null,
   "metadata": {},
   "outputs": [],
   "source": [
    "data.hist(figsize=(13,13))"
   ]
  },
  {
   "cell_type": "markdown",
   "metadata": {},
   "source": [
    "#### Plots"
   ]
  },
  {
   "cell_type": "code",
   "execution_count": null,
   "metadata": {},
   "outputs": [],
   "source": [
    "plt.plot(x, y, label=\"name\") #normal line\n",
    "plt.scatter(X, y, edgecolor='b', s=20, label=\"Samples\") #punkter\n",
    "\n",
    "plt.xlabel('x')\n",
    "plt.ylabel('y')\n",
    "plt.xlim((0, 1))\n",
    "plt.ylim((0, 1))\n",
    "\n",
    "plt.show() #visa plotten"
   ]
  },
  {
   "cell_type": "markdown",
   "metadata": {},
   "source": [
    "#### Confusion matrix"
   ]
  },
  {
   "cell_type": "code",
   "execution_count": null,
   "metadata": {},
   "outputs": [],
   "source": [
    "import seaborn as sns\n",
    "from sklearn import metrics\n",
    "cm = metrics.confusion_matrix(y_test, predictions)\n",
    "plt.figure(figsize=(10,10))\n",
    "sns.heatmap(cm, annot=True, fmt=\".0f\", linewidths=1, square = True);\n",
    "plt.ylabel('Actual label');\n",
    "plt.xlabel('Predicted label');\n",
    "plt.title('Accuracy Score: {0}'.format(score), size = 15);"
   ]
  },
  {
   "cell_type": "markdown",
   "metadata": {},
   "source": [
    "### Causal Inference"
   ]
  },
  {
   "cell_type": "markdown",
   "metadata": {},
   "source": [
    "#### Regression"
   ]
  },
  {
   "cell_type": "code",
   "execution_count": null,
   "metadata": {},
   "outputs": [],
   "source": [
    "import numpy as np\n",
    "import statsmodels.formula.api as smf\n",
    "import pandas as pd\n",
    "\n",
    "N = 100000\n",
    "\n",
    "n1 = np.random.normal(0, 1, N)\n",
    "n2 = np.random.normal(0, 1, N)\n",
    "n3 = np.random.normal(0, 1, N)\n",
    "n4 = np.random.normal(0, 1, N)\n",
    "\n",
    "x1 = n1\n",
    "x2 = 7*x1 + n2\n",
    "x3 = 4*x2 + n3\n",
    "x4 = 3*x3 + 2*x1 + n4\n",
    "\n",
    "dat1 = pd.DataFrame({'x1':x1, 'x2':x2, 'x3':x3, 'x4':x4})\n",
    "\n",
    "results1 = smf.ols('x4 ~ x2 - 1', data=dat1).fit() #-1 för ta bort y0 basically\n",
    "print(results1.summary())"
   ]
  },
  {
   "cell_type": "markdown",
   "metadata": {},
   "source": [
    "## Signal processing"
   ]
  },
  {
   "cell_type": "markdown",
   "metadata": {},
   "source": [
    "### Diraq function"
   ]
  },
  {
   "cell_type": "raw",
   "metadata": {
    "vscode": {
     "languageId": "raw"
    }
   },
   "source": [
    "import numpy as np\n",
    "\n",
    "N = 10                # length of the sequence\n",
    "delta = np.zeros(N)   # all zeros\n",
    "delta[0] = 1          # impulse at n=0"
   ]
  },
  {
   "cell_type": "markdown",
   "metadata": {},
   "source": [
    "### Generate white noise"
   ]
  },
  {
   "attachments": {
    "image.png": {
     "image/png": "[encoded data removed]"
    }
   },
   "cell_type": "markdown",
   "metadata": {},
   "source": [
    "### Generate impulse response\n",
    "Assuming you have C and A coefficients according to:\n",
    "![image.png](attachment:image.png)\n",
    "\n",
    "This realization is a linear filter driven by white noise. So to plot a realization, we extract the impulse response, and feed it white noise."
   ]
  },
  {
   "cell_type": "raw",
   "metadata": {
    "vscode": {
     "languageId": "raw"
    }
   },
   "source": [
    "C=np.array([1])\n",
    "A=np.array([1,a1])\n",
    "\n",
    "Nimp = 50                        # length of impulse response you want\n",
    "delta = unit_impulse(Nimp, idx=0)\n",
    "h = lfilter(C, A, delta)         # impulse response\n",
    "\n",
    "# --- Generate one realization y[n] by driving with white noise e[n] ---\n",
    "N = 1000                         # number of samples\n",
    "sigma_e = 1.0                    # std of innovations e[n]\n",
    "e = sigma_e * np.random.randn(N)\n",
    "y = lfilter(C, A, e)             # ARMA output (realization)"
   ]
  },
  {
   "cell_type": "markdown",
   "metadata": {},
   "source": [
    "### Generate frequency response"
   ]
  },
  {
   "cell_type": "raw",
   "metadata": {
    "vscode": {
     "languageId": "raw"
    }
   },
   "source": [
    "C=np.array([1])\n",
    "A=np.array([1,a1])\n",
    "\n",
    "# Computes frequency response, w frequencies, h frequency response\n",
    "w,h = scipy.signal.freqz(sigma**2*C,A,worN=1024)\n",
    "R = np.abs(h)**2\n",
    "axs[0,1].plot(w/2/np.pi,R)\n",
    "axs[0,1].set_xlabel(\"Frequency\")\n",
    "axs[0,1].set_ylabel(\"Power\")\n",
    "fig"
   ]
  },
  {
   "cell_type": "markdown",
   "metadata": {},
   "source": [
    "### Inverse of spectral density"
   ]
  },
  {
   "cell_type": "raw",
   "metadata": {
    "vscode": {
     "languageId": "raw"
    }
   },
   "source": [
    "# Calculate the inverse Fourier transform of the spectral density\n",
    "r = np.real(ifft(np.concatenate([R,np.flip(R[:-2])])))"
   ]
  },
  {
   "cell_type": "markdown",
   "metadata": {},
   "source": [
    "### Poles and zeroes visualization"
   ]
  },
  {
   "cell_type": "raw",
   "metadata": {
    "vscode": {
     "languageId": "raw"
    }
   },
   "source": [
    "// import from help_funcs script\n",
    "\n",
    "a1=0.9\n",
    "C = np.array([1])\n",
    "A = np.array([1,a1])\n",
    "\n",
    "# Calculate poles (and zeros)\n",
    "n,p = poles_and_zeros(C,A)"
   ]
  },
  {
   "cell_type": "markdown",
   "metadata": {},
   "source": [
    "### Covariance"
   ]
  },
  {
   "cell_type": "raw",
   "metadata": {
    "vscode": {
     "languageId": "raw"
    }
   },
   "source": [
    "// from help_funcs script in my-notes\n",
    "max_lag = 10\n",
    "r, lags = getCov(data[\"y\"],max_lag,\"r\")"
   ]
  },
  {
   "cell_type": "markdown",
   "metadata": {},
   "source": [
    "### Correlation"
   ]
  },
  {
   "cell_type": "raw",
   "metadata": {
    "vscode": {
     "languageId": "raw"
    }
   },
   "source": [
    "// from help_funcs script in my-notes\n",
    "rho, lags = getCov(data[\"y\"],max_lag,\"rho\")"
   ]
  },
  {
   "cell_type": "markdown",
   "metadata": {},
   "source": [
    "### Periodogram"
   ]
  },
  {
   "cell_type": "raw",
   "metadata": {
    "vscode": {
     "languageId": "raw"
    }
   },
   "source": [
    "fs = 256\n",
    "nfft = 2048\n",
    "f,P = scipy.signal.periodogram(x,fs=fs,nfft=nfft)"
   ]
  },
  {
   "cell_type": "markdown",
   "metadata": {},
   "source": [
    "### Log Periodogram\n",
    "fs = 256\n",
    "nfft = 2048\n",
    "f,P = scipy.signal.periodogram(x,fs=fs,nfft=nfft)\n",
    "plot.plot(data, 10*np.log10(P)) // just plotting y-axis as log10 basically"
   ]
  },
  {
   "cell_type": "markdown",
   "metadata": {},
   "source": [
    "### Play signal"
   ]
  },
  {
   "cell_type": "raw",
   "metadata": {
    "vscode": {
     "languageId": "raw"
    }
   },
   "source": [
    "import time\n",
    "import sounddevice as sd\n",
    "sd.play(data[\"celloA2\"],fs)\n",
    "time.sleep(2)"
   ]
  },
  {
   "cell_type": "markdown",
   "metadata": {},
   "source": [
    "### Spectogram"
   ]
  },
  {
   "cell_type": "raw",
   "metadata": {
    "vscode": {
     "languageId": "raw"
    }
   },
   "source": [
    "nfft = 16384\n",
    "window = 2048   // time-to-Frequency resolution\n",
    "\n",
    "f, t, St = scipy.signal.spectrogram(melody2, fs=fs, noverlap=noverlap, window='hann', nperseg=window,nfft=nfft)\n",
    "plt.figure()\n",
    "plt.pcolormesh(t, f, 10*np.log10(St))\n",
    "plt.ylabel('Frequency [Hz]')\n",
    "plt.xlabel('Time [sec]')\n",
    "plt.show()"
   ]
  },
  {
   "attachments": {
    "image-2.png": {
     "image/png": "[encoded data removed]"
    }
   },
   "cell_type": "markdown",
   "metadata": {},
   "source": [
    "![image-2.png](attachment:image-2.png)\n",
    "\n",
    "Window length calculation"
   ]
  },
  {
   "cell_type": "markdown",
   "metadata": {},
   "source": [
    "### Mel Spectogram"
   ]
  },
  {
   "cell_type": "raw",
   "metadata": {
    "vscode": {
     "languageId": "raw"
    }
   },
   "source": [
    "h = melFil(fs,nfft) // Visualize transfer function\n",
    "melSpectrogram(S,fs,noverlap,nfft)"
   ]
  },
  {
   "cell_type": "markdown",
   "metadata": {},
   "source": [
    "### Decimate signal (downsample)\n",
    "Decimate function low pass filters the data first before decimating. Not doing this will make high frequency components alias"
   ]
  },
  {
   "cell_type": "markdown",
   "metadata": {},
   "source": [
    "### Decimate signal (without low-pass filtering first)"
   ]
  },
  {
   "cell_type": "raw",
   "metadata": {
    "vscode": {
     "languageId": "raw"
    }
   },
   "source": [
    "melody2alias=melody2[0:-1:q]"
   ]
  },
  {
   "cell_type": "raw",
   "metadata": {
    "vscode": {
     "languageId": "raw"
    }
   },
   "source": [
    "noverlap = 1024\n",
    "nfft = 16384\n",
    "window = 2048\n",
    "q = 8 // Decimation factor\n",
    "melody2dec = scipy.signal.decimate(melody2,q)"
   ]
  },
  {
   "cell_type": "markdown",
   "metadata": {},
   "source": [
    "### Models & filters"
   ]
  },
  {
   "cell_type": "markdown",
   "metadata": {},
   "source": [
    "#### Filter data with model"
   ]
  },
  {
   "cell_type": "raw",
   "metadata": {
    "vscode": {
     "languageId": "raw"
    }
   },
   "source": [
    "datafilt = scipy.signal.lfilter(b,1,data) // where b is your model"
   ]
  },
  {
   "cell_type": "markdown",
   "metadata": {},
   "source": [
    "#### FPE\n",
    "Used to evauate model order for AR"
   ]
  },
  {
   "cell_type": "raw",
   "metadata": {
    "vscode": {
     "languageId": "raw"
    }
   },
   "source": [
    "sigma2 = []\n",
    "for ptest in np.arange(1,80):\n",
    "    [arp,var] = arcov(x,ptest) # Exchange this to your method if you want\n",
    "    sigma2.append(var)\n",
    "sigma2 = np.array(sigma2)\n",
    "n = len(x)\n",
    "ptvect = np.arange(1,80)\n",
    "FPE=sigma2*(n+ptvect+1)/(n-ptvect-1)\n",
    "print(FPE.shape)\n",
    "plt.plot(ptvect,FPE)\n",
    "plt.show()"
   ]
  },
  {
   "cell_type": "markdown",
   "metadata": {},
   "source": [
    "#### AR(p) models\n",
    "(Currently only AR(1) model)"
   ]
  },
  {
   "cell_type": "raw",
   "metadata": {
    "vscode": {
     "languageId": "raw"
    }
   },
   "source": [
    "C=np.array([1])\n",
    "A=np.array([1,a1])"
   ]
  },
  {
   "cell_type": "markdown",
   "metadata": {},
   "source": [
    "#### Generate AR model to fit data"
   ]
  },
  {
   "cell_type": "raw",
   "metadata": {
    "vscode": {
     "languageId": "raw"
    }
   },
   "source": [
    "import scipy.signal as sig\n",
    "\n",
    "x = np.asarray(datasub) // create array from data\n",
    "x = x-np.mean(x)        // subtract the mean (ESSENTIAL)\n",
    "p =  40                 // define model order\n",
    "arp, sigma2 = arcov(x, p)   // generate AR model covariance from data (from help_funcs script)\n",
    "\n",
    "nfft = 1024\n",
    "f_per, Pxx = sig.periodogram(x, fs=fs, nfft=nfft, window='hann', scaling='density')\n",
    "\n",
    "\n",
    "w, h = sig.freqz(b=[1.0], a=arp, worN=nfft//2 + 1)  // generate frequency response from estimated AR model\n",
    "f_ar = w * fs / (2*np.pi)                           \n",
    "S_ar = (sigma2 / fs) * (np.abs(h) ** 2)             // feed white noise into frequency response model     \n",
    "\n",
    "\n",
    "plt.figure(figsize=(10,6))\n",
    "plt.plot(f_per, 10*np.log10(Pxx + 1e-20), label=\"Periodogram (density)\")    // plot original data\n",
    "plt.plot(f_ar,  10*np.log10(S_ar + 1e-20),  label=f\"AR spectrum (p={p})\")   // plot AR model frequency response\n",
    "plt.xlabel(\"Frequency [Hz]\")\n",
    "plt.ylabel(\"PSD [dB/Hz]\")\n",
    "plt.title(\"Periodogram vs AR Spectrum (matched units)\")\n",
    "plt.grid(True)\n",
    "plt.legend()\n",
    "plt.tight_layout()\n",
    "plt.show()"
   ]
  },
  {
   "cell_type": "markdown",
   "metadata": {},
   "source": [
    "#### Lowpass filter"
   ]
  },
  {
   "cell_type": "raw",
   "metadata": {
    "vscode": {
     "languageId": "raw"
    }
   },
   "source": [
    "N=100\n",
    "Wn=4000/fs\n",
    "# Define low-pass filter and plot the magnitude function\n",
    "b=scipy.signal.firwin(N,Wn,pass_zero='lowpass')"
   ]
  },
  {
   "cell_type": "markdown",
   "metadata": {},
   "source": [
    "#### CompleteAR\n",
    "Used to compress audio recording from samples to subgroups of AR models, which are then fed with white noise to reconstruct the original sound sequence"
   ]
  },
  {
   "cell_type": "raw",
   "metadata": {
    "vscode": {
     "languageId": "raw"
    }
   },
   "source": [
    "p = 36  # Chosen model order\n",
    "datarec, fsx = completeAR(datafilt,48000,p) # Estimates seperate AR-models for 20-ms chunks of speech, then reconstructs the speech from filtered white noise\n",
    "\n",
    "# Playing\n",
    "#sd.play(xtotal,fs)\n",
    "sd.play(datarec,fsx)"
   ]
  },
  {
   "cell_type": "markdown",
   "metadata": {},
   "source": [
    "# Libraries"
   ]
  },
  {
   "cell_type": "markdown",
   "metadata": {},
   "source": [
    "## numpy"
   ]
  },
  {
   "cell_type": "markdown",
   "metadata": {},
   "source": [
    "### import numpy"
   ]
  },
  {
   "cell_type": "raw",
   "metadata": {
    "vscode": {
     "languageId": "raw"
    }
   },
   "source": [
    "import numpy as np"
   ]
  },
  {
   "cell_type": "markdown",
   "metadata": {},
   "source": [
    "### mean"
   ]
  },
  {
   "cell_type": "raw",
   "metadata": {
    "vscode": {
     "languageId": "raw"
    }
   },
   "source": [
    "np.mean()"
   ]
  },
  {
   "cell_type": "markdown",
   "metadata": {},
   "source": [
    "### array"
   ]
  },
  {
   "cell_type": "raw",
   "metadata": {
    "vscode": {
     "languageId": "raw"
    }
   },
   "source": [
    "// list to np.array\n",
    "list = [1,2,3]\n",
    "newlist = np.array(list)\n",
    "\n",
    "// new array and add values\n",
    "a = np.array()\n",
    "a = np.append(a,4)"
   ]
  },
  {
   "cell_type": "markdown",
   "metadata": {},
   "source": [
    "## scipy"
   ]
  },
  {
   "cell_type": "markdown",
   "metadata": {},
   "source": [
    "### import scipy"
   ]
  },
  {
   "cell_type": "raw",
   "metadata": {
    "vscode": {
     "languageId": "raw"
    }
   },
   "source": [
    "import scipy.io \n",
    "import scipy.signal"
   ]
  },
  {
   "cell_type": "markdown",
   "metadata": {},
   "source": [
    "### load mat files"
   ]
  },
  {
   "cell_type": "raw",
   "metadata": {
    "vscode": {
     "languageId": "raw"
    }
   },
   "source": [
    "# Load the data (You can use this way the entire course)\n",
    "path_to_data = \"data.mat\" # Change to YOUR path to data.\n",
    "data = scipy.io.loadmat(path_to_data,simplify_cells=True)\n",
    "print(data.keys())"
   ]
  },
  {
   "cell_type": "markdown",
   "metadata": {},
   "source": [
    "## matplotlib"
   ]
  },
  {
   "cell_type": "markdown",
   "metadata": {},
   "source": [
    "### Scatterplot"
   ]
  },
  {
   "cell_type": "raw",
   "metadata": {
    "vscode": {
     "languageId": "raw"
    }
   },
   "source": [
    "k = 1 # sets the lag\n",
    "plt.figure(figsize=(4, 4))\n",
    "plt.scatter(data[\"y\"][:-k],data[\"y\"][k:], label='Realization 1')\n",
    "plt.show()\n",
    "\n",
    "# Write your own code below:\n",
    "k = 2 #...\n",
    "plt.figure(figsize=(4, 4))\n",
    "plt.scatter(data[\"y\"][:-k],data[\"y\"][k:], label='Realization 1')\n",
    "plt.show()\n",
    "\n",
    "k = 3 #...\n",
    "plt.figure(figsize=(4, 4))\n",
    "plt.scatter(data[\"y\"][:-k],data[\"y\"][k:], label='Realization 1')\n",
    "plt.show()"
   ]
  },
  {
   "cell_type": "markdown",
   "metadata": {},
   "source": [
    "### matplotlib.pyplot"
   ]
  },
  {
   "cell_type": "markdown",
   "metadata": {},
   "source": [
    "#### plot simple figure"
   ]
  },
  {
   "cell_type": "raw",
   "metadata": {
    "vscode": {
     "languageId": "raw"
    }
   },
   "source": [
    "plt.figure(figsize=(8, 4))\n",
    "plt.plot(data[\"data1\"], label='Realization 1')\n",
    "plt.plot(data[\"data2\"], label='Realization 2')\n",
    "plt.plot(data[\"data3\"], label='Realization 3')\n",
    "plt.xlabel('Sample Index')\n",
    "plt.ylabel('Value')\n",
    "plt.title('Realizations of White Gaussian Noise')\n",
    "plt.legend()\n",
    "plt.show()"
   ]
  },
  {
   "cell_type": "markdown",
   "metadata": {},
   "source": [
    "#### subplots"
   ]
  },
  {
   "cell_type": "raw",
   "metadata": {
    "vscode": {
     "languageId": "raw"
    }
   },
   "source": [
    "fig, (plot1, plot2, plot3) = plt.subplots(3)\n",
    "fig.suptitle('Example figure')\n",
    "\n",
    "def subplot_plot(plot,data,name):\n",
    "    plot.plot(data)\n",
    "    plot.set_xlabel('Sample Index')\n",
    "    plot.set_ylabel('Value')\n",
    "    plot.set_title(name)\n",
    "    plot.axis([10000, 15000, -0.1, 0.1])\n",
    "\n",
    "subplot_plot(plot1,celloA2,'celloA2')\n",
    "subplot_plot(plot2,celloA3,'celloA3')\n",
    "subplot_plot(plot3,celloA4,'celloA4')"
   ]
  }
 ],
 "metadata": {
  "kernelspec": {
   "display_name": "Python 3",
   "language": "python",
   "name": "python3"
  },
  "language_info": {
   "codemirror_mode": {
    "name": "ipython",
    "version": 3
   },
   "file_extension": ".py",
   "mimetype": "text/x-python",
   "name": "python",
   "nbconvert_exporter": "python",
   "pygments_lexer": "ipython3",
   "version": "3.12.0"
  }
 },
 "nbformat": 4,
 "nbformat_minor": 2
}
