{
 "cells": [
  {
   "cell_type": "markdown",
   "id": "57989767",
   "metadata": {},
   "source": [
    "# Notes"
   ]
  },
  {
   "cell_type": "markdown",
   "id": "18a3f8c7",
   "metadata": {},
   "source": [
    "## Control diffusion constant stability\n",
    "Sometimes, COMSOL varies diffusion constant to ensure stability. To check if this is happening, change the diffusion constant and ensure that a significant change happens.\n",
    "\n",
    "If the flow phenomena changes, increase mesh size."
   ]
  },
  {
   "attachments": {
    "image-2.png": {
     "image/png": "[encoded data removed]"
    },
    "image.png": {
     "image/png": "[encoded data removed]"
    }
   },
   "cell_type": "markdown",
   "id": "55b71ef2",
   "metadata": {},
   "source": [
    "## Rounded corner strat\n",
    "Create a polygon and then use fillet\n",
    "\n",
    "![image.png](attachment:image.png)\n",
    "\n",
    "![image-2.png](attachment:image-2.png)"
   ]
  },
  {
   "cell_type": "markdown",
   "id": "2a52c597",
   "metadata": {},
   "source": [
    "# Start-up\n",
    "\n",
    "## Step 1: 2D or 3D\n",
    "New > Model Wizard\n",
    "Choose either 2D or 3D"
   ]
  },
  {
   "cell_type": "markdown",
   "id": "76294bf9",
   "metadata": {},
   "source": [
    "## Step 2: Physics\n",
    "\n",
    "### Single phase\n",
    "Fluid flow > Single-phase flow > laminar flow > add\n",
    "\n",
    "### Multi-phase\n",
    "(nothing so far)\n",
    "### Finish\n",
    "Click Study"
   ]
  },
  {
   "cell_type": "markdown",
   "id": "0cb64c5d",
   "metadata": {},
   "source": [
    "## Step 3: Choose time dependancy\n",
    "Stationary or time-dependancy"
   ]
  },
  {
   "cell_type": "markdown",
   "id": "ca1f8ca3",
   "metadata": {},
   "source": [
    "# Geometries"
   ]
  },
  {
   "attachments": {
    "image.png": {
     "image/png": "[encoded data removed]"
    }
   },
   "cell_type": "markdown",
   "id": "279718ce",
   "metadata": {},
   "source": [
    "### Global parameters\n",
    "Insert dimensions as global parameters\n",
    "Global definitions > Parameters\n",
    "Example:\n",
    "![image.png](attachment:image.png)"
   ]
  },
  {
   "cell_type": "markdown",
   "id": "b94971a6",
   "metadata": {},
   "source": [
    "## Build shapes"
   ]
  },
  {
   "cell_type": "markdown",
   "id": "9bf66d80",
   "metadata": {},
   "source": [
    "### Add shape\n",
    "Component 1 > right-click Geometry 1 > select shape > define dimensions > Select corner positions > Build-selected"
   ]
  },
  {
   "cell_type": "markdown",
   "id": "1976398a",
   "metadata": {},
   "source": [
    "## Remove partition of shape\n",
    "Right-click Geometry 1 > add desired shape > select dimensions and position to desired shape of removal > Build selected\n",
    "\n",
    "Right-click Geometry 1 > Booleans and Partitions > Difference\n",
    "Select geometries in the window"
   ]
  },
  {
   "cell_type": "markdown",
   "id": "a788953e",
   "metadata": {},
   "source": [
    "## Combine shapes\n",
    "After placing shapes for example placing rectangles over each other to create a Y-junction:\n",
    "Right-click Geometry 1 > Booleans and partitions > Union > Select shapes > Disable keep interior boundaries > Build all\n",
    "Make unions two at a time"
   ]
  },
  {
   "cell_type": "markdown",
   "id": "fcef4c8b",
   "metadata": {},
   "source": [
    "## Copy shapes (once)\n",
    "Right-click Geometry 1 > Transformations > Copy > Add shapes to copy in the settings window and change displacement\n",
    "\n",
    "## Copy shapes (multiple)\n",
    "Right-click Geometry 1 > Transformations > Array > Choose shape to repeat > Change displacement > Size > Change to linear and change size to how many elements"
   ]
  },
  {
   "cell_type": "markdown",
   "id": "fc3a1f92",
   "metadata": {},
   "source": [
    "## Measurements\n",
    "Sometimes you want to make measurements and store as variables for future dimensions or positioning\n",
    "\n",
    "Geometry > Distance measurements > Pick point 1 > Pick point 2\n",
    "\n",
    "Distance will be saved as variables."
   ]
  },
  {
   "cell_type": "markdown",
   "id": "cf193a57",
   "metadata": {},
   "source": [
    "## Extrude into 3D\n",
    "Right-click yourfilename.mph > Add 3D Component\n",
    "\n",
    "Right-click Geometry > Add Work Plane\n",
    "\n",
    "Then create your desired shape in a 2D plane in 'Plane Geometry', as either in the workspace like normal, or import 2D model from a mph file.\n",
    "\n",
    "Right-click Work-plane > Extrude > Choose distance > Build"
   ]
  },
  {
   "cell_type": "markdown",
   "id": "f6365cda",
   "metadata": {},
   "source": [
    "# Specify fluids in channels\n",
    "Component 1 > Materials > Add Material from library > (look to the right) \n",
    "\n",
    "## Water\n",
    "Liquids and Gases > Liquids > Water > Right-click > Add to component"
   ]
  },
  {
   "cell_type": "markdown",
   "id": "c187571e",
   "metadata": {},
   "source": [
    "# Boundary conditions\n",
    "\n",
    "## Inlet/Outlet\n",
    "Component 1 > Right-click Laminar flow > Inlet > Left-click on desired inlet in graphics\n",
    "\n",
    "Set boundary condition in inlet to fully developed flow and an average velocity\n",
    "Set boundary condition in outlet to have zero pressure"
   ]
  },
  {
   "cell_type": "markdown",
   "id": "02291028",
   "metadata": {},
   "source": [
    "# Mesh\n",
    "Component 1 > Mesh 1 > Select Element size > Build all"
   ]
  },
  {
   "cell_type": "markdown",
   "id": "3b0c6e67",
   "metadata": {},
   "source": [
    "# Customizations"
   ]
  },
  {
   "cell_type": "markdown",
   "id": "47bb9a5a",
   "metadata": {},
   "source": [
    "## Change fluid properties\n",
    "Generally:\n",
    "Component 1 > Left click Laminar flow > Settings will open"
   ]
  },
  {
   "cell_type": "markdown",
   "id": "70a56511",
   "metadata": {},
   "source": [
    "### Compressible or incompressible\n",
    "Component 1 > Left click Laminar flow > Fluid properties"
   ]
  },
  {
   "cell_type": "markdown",
   "id": "8b30955f",
   "metadata": {},
   "source": [
    "### Temperature\n",
    "Component 1 > Left click Laminar flow > Fluid properties > User defined"
   ]
  },
  {
   "cell_type": "markdown",
   "id": "9ea94204",
   "metadata": {},
   "source": [
    "## Stabilization\n",
    "Transport of diluted species > open Stabilization > Consistent Stabilization\n",
    "Disable or enable streamline/crosswind\n",
    "Crosswind shows more precision, but is less stable."
   ]
  },
  {
   "cell_type": "markdown",
   "id": "6d81881f",
   "metadata": {},
   "source": [
    "## Change mesh pattern\n",
    "Right-click Mesh 1 > Choose mesh type then build\n",
    "\n",
    "### Boundary layer, no-slip condition\n",
    "Right-click Mesh 1 > Boundary layer\n",
    "Boundary layer properties > finjustera settings och build"
   ]
  },
  {
   "attachments": {
    "image.png": {
     "image/png": "[encoded data removed]"
    }
   },
   "cell_type": "markdown",
   "id": "86b95e9e",
   "metadata": {},
   "source": [
    "# Simulate diffusion\n",
    "Right-click Component 1 > Add Physics\n",
    "Menu will appear to the right\n",
    "Chemical Species Transport > Click Transport of Diluted Species > Add to Component 1\n",
    "\n",
    "## Stationary case\n",
    "Right click yourfilename.mph at the top > Add Study > select Stationary > Add Study\n",
    "\n",
    "## Time-dependent case\n",
    "Right click yourfilename.mph at the top > Add Study > select Time-dependent > Add Study\n",
    "\n",
    "Choose time range.\n",
    "\n",
    "## Set diffusion coefficient\n",
    "Global Definitions > Parameters > Add coefficient\n",
    "Example: Dc = 1*10^(-9) [m^2s/s]\n",
    "\n",
    "Add definition to Transport of Diluted Species:\n",
    "Transport of Diluted Species > Fluid 1 > Diffusion > Select diffusion constant\n",
    "\n",
    "## Set convection\n",
    "Transport of Diluted Species > Fluid 1 > Convection\n",
    "Set to velocity field spf\n",
    "\n",
    "## Set material\n",
    "Transport of Diluted Species > Fluid 1 > Diffusion > Material\n",
    "Set to water (ma1)\n",
    "\n",
    "## Set inflows/Outflows\n",
    "Right click Transport of Diluted Species > Inflow > Select inflows in the graphics window\n",
    "Set inflow concentrations to desired concentration\n",
    "\n",
    "## Set Study settings\n",
    "Expand Study 1 > click Step 1: Stationary\n",
    "Disable Transport of diluted species\n",
    "Enable laminar flow\n",
    "\n",
    "Expand Study 2 > click Step 1: Stationary\n",
    "Enable Transport of diluted species\n",
    "Disable laminar flow\n",
    "Go into Values of Dependent Variables > Values of variables not solved for.\n",
    "Use these settings:\n",
    "\n",
    "![image.png](attachment:image.png)\n",
    "\n",
    "Summary: Allows Study 2 to use the simulation from Study 1 to perform its simulations\n",
    "\n",
    "Right click on Study 2 and compute"
   ]
  },
  {
   "attachments": {
    "image.png": {
     "image/png": "[encoded data removed]"
    }
   },
   "cell_type": "markdown",
   "id": "df71e05e",
   "metadata": {},
   "source": [
    "# Particle tracing\n",
    "(First, perform a diffusion realization)\n",
    "Results > Right click Concentration (tds) > More point plots > Particle tracing\n",
    "\n",
    "Choose particle positioning:\n",
    "Either at x,y or inlets\n",
    "Using x,y:\n",
    "\n",
    "![image.png](attachment:image.png)\n",
    "\n",
    "Coloring and Style > Choose radius, typically 20th of shortest dimension"
   ]
  },
  {
   "cell_type": "markdown",
   "id": "64db1de8",
   "metadata": {},
   "source": [
    "# Visualization and plotting"
   ]
  },
  {
   "cell_type": "markdown",
   "id": "707950bb",
   "metadata": {},
   "source": [
    "## Velocity vectors\n",
    "Results > Right-click Velocity > Arrow Surface\n",
    "Adjust number of arrows at Arrow Positioning > Number of points\n",
    "Click plot"
   ]
  },
  {
   "cell_type": "markdown",
   "id": "cf8f26c9",
   "metadata": {},
   "source": [
    "## Cross-sections\n",
    "Right-click Datasets > Cut Line 2D > Choose dimensions of the plane\n",
    "Visualize the cut by clicking Plot"
   ]
  },
  {
   "cell_type": "markdown",
   "id": "7c4eeffa",
   "metadata": {},
   "source": [
    "## Create line plot\n",
    "Right click Results > 1D Plot Group\n",
    "Choose dataset\n",
    "Right-click 1D Plot Group > Line Graph\n",
    "Choose dataset\n",
    "Choose y-Axis Data and x-Axis Data to plot from"
   ]
  },
  {
   "cell_type": "markdown",
   "id": "ccd5ff2d",
   "metadata": {},
   "source": [
    "# Parametric Sweep\n",
    "Right-click Study 1 > Parametric Sweep > Add parameter by clicking blue + sign under Study Settings\n",
    "Choose array of values by for example:\n",
    "1, 2, 3\n",
    "Click Compute in the Parametric Sweep settings window\n",
    "Perform plots like usual and different lines for each sweep will show"
   ]
  }
 ],
 "metadata": {
  "language_info": {
   "name": "python"
  }
 },
 "nbformat": 4,
 "nbformat_minor": 5
}
